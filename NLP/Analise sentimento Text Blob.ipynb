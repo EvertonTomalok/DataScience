{
 "cells": [
  {
   "cell_type": "code",
   "execution_count": 1,
   "metadata": {},
   "outputs": [
    {
     "ename": "ModuleNotFoundError",
     "evalue": "No module named 'preprocessingtext'",
     "output_type": "error",
     "traceback": [
      "\u001b[0;31m---------------------------------------------------------------------------\u001b[0m",
      "\u001b[0;31mModuleNotFoundError\u001b[0m                       Traceback (most recent call last)",
      "\u001b[0;32m<ipython-input-1-f73defa5b87a>\u001b[0m in \u001b[0;36m<module>\u001b[0;34m()\u001b[0m\n\u001b[1;32m      4\u001b[0m \u001b[0;34m\u001b[0m\u001b[0m\n\u001b[1;32m      5\u001b[0m \u001b[0;31m# https://github.com/EvertonTomalok/preprocessingtext/blob/master/README.md\u001b[0m\u001b[0;34m\u001b[0m\u001b[0;34m\u001b[0m\u001b[0m\n\u001b[0;32m----> 6\u001b[0;31m \u001b[0;32mfrom\u001b[0m \u001b[0mpreprocessingtext\u001b[0m \u001b[0;32mimport\u001b[0m \u001b[0mCleanSentences\u001b[0m\u001b[0;34m\u001b[0m\u001b[0m\n\u001b[0m\u001b[1;32m      7\u001b[0m \u001b[0;34m\u001b[0m\u001b[0m\n\u001b[1;32m      8\u001b[0m \u001b[0;34m\u001b[0m\u001b[0m\n",
      "\u001b[0;31mModuleNotFoundError\u001b[0m: No module named 'preprocessingtext'"
     ]
    }
   ],
   "source": [
    "from textblob.classifiers import NaiveBayesClassifier\n",
    "from textblob import TextBlob\n",
    "import pandas as pd\n",
    "\n",
    "# https://github.com/EvertonTomalok/preprocessingtext/blob/master/README.md\n",
    "from preprocessingtext import CleanSentences\n",
    "\n",
    "\n",
    "pre_processing = CleanSentences()"
   ]
  },
  {
   "cell_type": "markdown",
   "metadata": {},
   "source": [
    "## DataSet de treino"
   ]
  },
  {
   "cell_type": "code",
   "execution_count": null,
   "metadata": {},
   "outputs": [],
   "source": [
    "#  1 = Good\n",
    "# -1 = Bad\n",
    "\n",
    "data_set_treino = [\n",
    "    ('Eu amo muito tudo isso', 1),\n",
    "    ('Eu odeio isso', -1),\n",
    "    ('Eu gostei bastante desse comentário', 1),\n",
    "    ('Por favor, não me ligue mais', -1),\n",
    "    ('Eu gosto de sair com meus amigos', 1),\n",
    "    ('O Bolsonaro é um cara escroto', -1),\n",
    "    ('Programar em python é bom demais', 1),\n",
    "    ('Não existe um candidato para se votar', 1),\n",
    "    ('Você não deveria fazer isso', -1),\n",
    "    ('Deveriamos fazer isso mais vezes', 1),\n",
    "    ('Isso não foi legal', -1),\n",
    "    ('Eu amo esse saunduice', 1),\n",
    "    ('Estou cansado deste trabalho', -1),\n",
    "    ('Que lugar incrível', 1),\n",
    "    ('Essa cerveja parece boa', 1),\n",
    "    ('Não quero ir nesse restarurante', -1),\n",
    "    ('Esse lugar é meu favorito', 1),\n",
    "    (\"Não consigo lidar com isso\", -1),\n",
    "    ('Que cara chato', -1),\n",
    "    ('Meu chefe é horrível', -1),\n",
    "    ('A cerveja esta boa', 1),\n",
    "    ('Não gosto do meu trabalho', -1),\n",
    "    (\"Me sinto incrível hoje\", 1),\n",
    "    (\"Não quero ir hoje\", -1),\n",
    "    ('Ele é meu melhor amigo', 1),\n",
    "    (\"Não acredito que estou fazendo isso\", -1)\n",
    "    \n",
    "]"
   ]
  },
  {
   "cell_type": "markdown",
   "metadata": {},
   "source": [
    "# Efetuando o pre-processamento do texto removendo stop words, pontuação e normalizando acentuação"
   ]
  },
  {
   "cell_type": "code",
   "execution_count": null,
   "metadata": {},
   "outputs": [],
   "source": [
    "train_set_pos_processing = []\n",
    "\n",
    "for element, sentimento in data_set_treino:\n",
    "    new_elemento = pre_processing.stem_sentence(element, remove_stop_words=True)\n",
    "    train_set_pos_processing.append((new_elemento, sentimento))\n"
   ]
  },
  {
   "cell_type": "markdown",
   "metadata": {},
   "source": [
    "## Visualizando antes e depois do processamento"
   ]
  },
  {
   "cell_type": "code",
   "execution_count": null,
   "metadata": {
    "scrolled": false
   },
   "outputs": [],
   "source": [
    "data = dict()\n",
    "antes = [x for x, _ in data_set_treino]\n",
    "depois = list(x for x, _ in train_set_pos_processing)\n",
    "sentimento = [x for _, x in data_set_treino]\n",
    "\n",
    "data = {\n",
    "    'antes': antes,\n",
    "    'depois': depois,\n",
    "    'sentimento': sentimento\n",
    "}\n",
    "\n",
    "df = pd.DataFrame(data)\n",
    "df"
   ]
  },
  {
   "cell_type": "markdown",
   "metadata": {},
   "source": [
    "## Delimitando o tamanho do data sete em 70% para treino, e 30% para teste"
   ]
  },
  {
   "cell_type": "code",
   "execution_count": null,
   "metadata": {},
   "outputs": [],
   "source": [
    "treino = int(len(train_set_pos_processing)*0.7)\n",
    "\n",
    "\n",
    "treino\n",
    "# 25 * 0.7 = 17.5 => Arrendondando = 18"
   ]
  },
  {
   "cell_type": "markdown",
   "metadata": {},
   "source": [
    "## Treinando o modelo com base no teorema de Naive Bayes"
   ]
  },
  {
   "cell_type": "code",
   "execution_count": null,
   "metadata": {},
   "outputs": [],
   "source": [
    "classificador_sem_stop_words = NaiveBayesClassifier(train_set_pos_processing[:treino])"
   ]
  },
  {
   "cell_type": "markdown",
   "metadata": {},
   "source": [
    "## Medindo a acurácia do modelo removendo stop words"
   ]
  },
  {
   "cell_type": "code",
   "execution_count": null,
   "metadata": {},
   "outputs": [],
   "source": [
    "accuracy = classificador_sem_stop_words.accuracy(train_set_pos_processing[treino:])\n",
    "accuracy = accuracy * 100\n",
    "print('Precisão da previsão: {}%'.format(accuracy))"
   ]
  },
  {
   "cell_type": "markdown",
   "metadata": {},
   "source": [
    "## Visualizando as features"
   ]
  },
  {
   "cell_type": "code",
   "execution_count": null,
   "metadata": {},
   "outputs": [],
   "source": [
    "classificador_sem_stop_words.show_informative_features()  "
   ]
  },
  {
   "cell_type": "markdown",
   "metadata": {},
   "source": [
    "<br><br><br>\n",
    "# Modelo sem remoção de stop words"
   ]
  },
  {
   "cell_type": "code",
   "execution_count": null,
   "metadata": {},
   "outputs": [],
   "source": [
    "train_set_pos_processing = []\n",
    "\n",
    "for element, sentimento in data_set_treino:\n",
    "    new_elemento = pre_processing.stem_sentence(element, remove_stop_words=False)\n",
    "    train_set_pos_processing.append((new_elemento, sentimento))\n"
   ]
  },
  {
   "cell_type": "markdown",
   "metadata": {},
   "source": [
    "## Analisando o novo data_set"
   ]
  },
  {
   "cell_type": "code",
   "execution_count": null,
   "metadata": {},
   "outputs": [],
   "source": [
    "data = dict()\n",
    "antes = [x for x, _ in data_set_treino]\n",
    "depois = list(x for x, _ in train_set_pos_processing)\n",
    "sentimento = [x for _, x in data_set_treino]\n",
    "\n",
    "data = {\n",
    "    'antes': antes,\n",
    "    'depois': depois,\n",
    "    'sentimento': sentimento\n",
    "}\n",
    "\n",
    "df = pd.DataFrame(data)\n",
    "df"
   ]
  },
  {
   "cell_type": "markdown",
   "metadata": {},
   "source": [
    "## Delimitando 70% e treinando o modelo"
   ]
  },
  {
   "cell_type": "code",
   "execution_count": null,
   "metadata": {},
   "outputs": [],
   "source": [
    "treino = int(len(train_set_pos_processing)*0.7)\n",
    "\n",
    "classificador_com_stop_words = NaiveBayesClassifier(train_set_pos_processing[:treino])"
   ]
  },
  {
   "cell_type": "markdown",
   "metadata": {},
   "source": [
    "## Medindo a acurácia deste modelo"
   ]
  },
  {
   "cell_type": "code",
   "execution_count": null,
   "metadata": {},
   "outputs": [],
   "source": [
    "## Neste modelo, mantendo as stop words, a acurácia do modelo caiu consideravelmente\n",
    "\n",
    "accuracy = classificador_com_stop_words.accuracy(train_set_pos_processing[treino:])\n",
    "accuracy = accuracy * 100\n",
    "print('Precisão da previsão: {}%'.format(accuracy))"
   ]
  },
  {
   "cell_type": "markdown",
   "metadata": {},
   "source": [
    "<br><br><br><br>\n",
    "\n",
    "# Utilizando os modelos"
   ]
  },
  {
   "cell_type": "code",
   "execution_count": null,
   "metadata": {},
   "outputs": [],
   "source": [
    "# stop_word= True (manter)\n",
    "# stop_word= False (remover)\n",
    "\n",
    "def sentimento(text, stop_word=True):\n",
    "    \n",
    "    bkp_text = text\n",
    "    text = pre_processing.stem_sentence(text, remove_stop_words= not stop_word)\n",
    "    \n",
    "    \n",
    "    # Definindo o classificador conforme o paramentro recebido\n",
    "    if stop_word:\n",
    "        classificador = classificador_com_stop_words\n",
    "    else:\n",
    "        classificador = classificador_sem_stop_words\n",
    "\n",
    "    # Transformando o texto recebido em um objeto TextBlob\n",
    "    blob = TextBlob(text, classifier=classificador)\n",
    "    result = blob.classify()\n",
    "\n",
    "    if result == 1:\n",
    "        to_print = '\\033[1;30;42m POS \\033[m'\n",
    "    elif result == -1:\n",
    "        to_print = '\\033[1;30;41m NEG \\033[m'\n",
    "    \n",
    "    print('========================================')\n",
    "    print('Frase analisada: ', bkp_text)\n",
    "    print('\\nEsta frase é de caráter: {}\\n'.format(to_print))\n",
    "    print('========================================')\n",
    "    \n",
    "    del(bkp_text)\n",
    "    del(to_print)\n"
   ]
  },
  {
   "cell_type": "markdown",
   "metadata": {},
   "source": [
    "<br><br>\n",
    "# Utilizando o modelo retirando stop_words"
   ]
  },
  {
   "cell_type": "code",
   "execution_count": null,
   "metadata": {},
   "outputs": [],
   "source": [
    "sentimento('Eu adorei essa noite', stop_word=False)\n",
    "print()\n",
    "sentimento('Eu não gostei do que você falou', stop_word=False)\n",
    "print()\n",
    "\n",
    "sentimento('Eu gostei de hoje', stop_word=False)"
   ]
  },
  {
   "cell_type": "markdown",
   "metadata": {},
   "source": [
    "<br><br>\n",
    "# Utilizando o modelo NÃO retirando stop_words"
   ]
  },
  {
   "cell_type": "code",
   "execution_count": null,
   "metadata": {},
   "outputs": [],
   "source": [
    "sentimento('Eu adorei essa noite', stop_word=True)\n",
    "print()\n",
    "sentimento('Eu não gostei do que você falou', stop_word=True)\n",
    "# previsão falso positiva"
   ]
  }
 ],
 "metadata": {
  "kernelspec": {
   "display_name": "Python 3",
   "language": "python",
   "name": "python3"
  },
  "language_info": {
   "codemirror_mode": {
    "name": "ipython",
    "version": 3
   },
   "file_extension": ".py",
   "mimetype": "text/x-python",
   "name": "python",
   "nbconvert_exporter": "python",
   "pygments_lexer": "ipython3",
   "version": "3.6.5"
  }
 },
 "nbformat": 4,
 "nbformat_minor": 2
}
