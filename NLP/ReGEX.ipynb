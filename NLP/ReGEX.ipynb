{
 "cells": [
  {
   "cell_type": "code",
   "execution_count": 1,
   "metadata": {},
   "outputs": [],
   "source": [
    "import re\n",
    "from collections import namedtuple"
   ]
  },
  {
   "cell_type": "code",
   "execution_count": 2,
   "metadata": {},
   "outputs": [],
   "source": [
    "CPF =  r'\\d{3}\\.?\\d{3}\\.?\\d{3}\\-?\\d{2}'\n",
    "DATA = r'\\d{1,2}\\/\\d{1,2}\\/\\d{2,4}'\n",
    "TELEFONE = r'\\(?\\d{2,3}\\)?\\s*\\d{4,5}\\-?\\.?\\s?\\d{4}'\n",
    "EMAIL = '[a-zA-Z0-9]+[_a-z0-9-\\.]*@[a-z0-9-]+\\.[a-z0-9\\.]*'\n",
    "REGEX = r'(?P<data>\\d{1,2}\\/\\d{1,2}\\/\\d{2,4})|(?P<cpf>\\d{3}\\.?\\d{3}\\.?\\d{3}\\-?\\d{2})|(?P<telefone>\\(?\\d{2,3}\\)?\\s*\\d{4,5}\\-?\\.?\\s?\\d{4})'"
   ]
  },
  {
   "cell_type": "code",
   "execution_count": 3,
   "metadata": {},
   "outputs": [],
   "source": [
    "string = 'Meu cpf é 385.141.378-40 e hoje é 07/12/2018 e amanha é 08/12/2018 e meu telefone é 11 94569-9198 '\\\n",
    "         'ou (11) 4442 0649, e meu email é everton.tomalok@ramper.com.br'"
   ]
  },
  {
   "cell_type": "code",
   "execution_count": 4,
   "metadata": {},
   "outputs": [
    {
     "data": {
      "text/plain": [
       "[CPF(cpf='385.141.378-40', inicio=10, fim=24),\n",
       " Data(data='07/12/2018', inicio=34, fim=44),\n",
       " Data(data='08/12/2018', inicio=56, fim=66),\n",
       " Telefone(telefone='11 94569-9198', inicio=84, fim=97),\n",
       " Telefone(telefone='(11) 4442 0649', inicio=101, fim=115)]"
      ]
     },
     "execution_count": 4,
     "metadata": {},
     "output_type": "execute_result"
    }
   ],
   "source": [
    "Data = namedtuple('Data', 'data inicio fim')\n",
    "Cpf = namedtuple('CPF', 'cpf inicio fim')\n",
    "Telefone = namedtuple('Telefone', 'telefone inicio fim')\n",
    "\n",
    "iterador = re.finditer(REGEX, string) \n",
    "\n",
    "items = []\n",
    "\n",
    "for item in iterador:\n",
    "    if item.group('data'):\n",
    "        items.append(Data(item.group('data'), item.start(), item.end()))\n",
    "    elif item.group('telefone'):\n",
    "        items.append(Telefone(item.group('telefone'), item.start(), item.end()))\n",
    "    elif item.group('cpf'):\n",
    "        items.append(Cpf(item.group('cpf'), item.start(), item.end()))\n",
    "        \n",
    "items"
   ]
  },
  {
   "cell_type": "code",
   "execution_count": 5,
   "metadata": {},
   "outputs": [
    {
     "data": {
      "text/plain": [
       "['385.141.378-40']"
      ]
     },
     "execution_count": 5,
     "metadata": {},
     "output_type": "execute_result"
    }
   ],
   "source": [
    "re.findall(CPF, string)"
   ]
  },
  {
   "cell_type": "code",
   "execution_count": 6,
   "metadata": {},
   "outputs": [
    {
     "data": {
      "text/plain": [
       "'Meu cpf é xxx.xxx.xxx-xx e hoje é 07/12/2018 e amanha é 08/12/2018 e meu telefone é 11 94569-9198 ou (11) 4442 0649, e meu email é everton.tomalok@ramper.com.br'"
      ]
     },
     "execution_count": 6,
     "metadata": {},
     "output_type": "execute_result"
    }
   ],
   "source": [
    "string = re.sub(CPF, 'xxx.xxx.xxx-xx', string)\n",
    "string"
   ]
  },
  {
   "cell_type": "code",
   "execution_count": 7,
   "metadata": {},
   "outputs": [
    {
     "data": {
      "text/plain": [
       "['07/12/2018', '08/12/2018']"
      ]
     },
     "execution_count": 7,
     "metadata": {},
     "output_type": "execute_result"
    }
   ],
   "source": [
    "re.findall(DATA, string)"
   ]
  },
  {
   "cell_type": "code",
   "execution_count": 8,
   "metadata": {},
   "outputs": [
    {
     "data": {
      "text/plain": [
       "'Meu cpf é xxx.xxx.xxx-xx e hoje é dd/mm/aaaa e amanha é dd/mm/aaaa e meu telefone é 11 94569-9198 ou (11) 4442 0649, e meu email é everton.tomalok@ramper.com.br'"
      ]
     },
     "execution_count": 8,
     "metadata": {},
     "output_type": "execute_result"
    }
   ],
   "source": [
    "string = re.sub(DATA, 'dd/mm/aaaa', string)\n",
    "string"
   ]
  },
  {
   "cell_type": "code",
   "execution_count": 9,
   "metadata": {},
   "outputs": [
    {
     "data": {
      "text/plain": [
       "['11 94569-9198', '(11) 4442 0649']"
      ]
     },
     "execution_count": 9,
     "metadata": {},
     "output_type": "execute_result"
    }
   ],
   "source": [
    "re.findall(TELEFONE, string)"
   ]
  },
  {
   "cell_type": "code",
   "execution_count": 10,
   "metadata": {},
   "outputs": [
    {
     "data": {
      "text/plain": [
       "'Meu cpf é xxx.xxx.xxx-xx e hoje é dd/mm/aaaa e amanha é dd/mm/aaaa e meu telefone é (xx) xxxxx-xxxx ou (xx) xxxxx-xxxx, e meu email é everton.tomalok@ramper.com.br'"
      ]
     },
     "execution_count": 10,
     "metadata": {},
     "output_type": "execute_result"
    }
   ],
   "source": [
    "string = re.sub(TELEFONE, '(xx) xxxxx-xxxx', string)\n",
    "string"
   ]
  },
  {
   "cell_type": "code",
   "execution_count": 11,
   "metadata": {},
   "outputs": [
    {
     "data": {
      "text/plain": [
       "['everton.tomalok@ramper.com.br']"
      ]
     },
     "execution_count": 11,
     "metadata": {},
     "output_type": "execute_result"
    }
   ],
   "source": [
    "re.findall(EMAIL, string)"
   ]
  },
  {
   "cell_type": "code",
   "execution_count": 12,
   "metadata": {},
   "outputs": [
    {
     "data": {
      "text/plain": [
       "'Meu cpf é xxx.xxx.xxx-xx e hoje é dd/mm/aaaa e amanha é dd/mm/aaaa e meu telefone é (xx) xxxxx-xxxx ou (xx) xxxxx-xxxx, e meu email é email@email.com'"
      ]
     },
     "execution_count": 12,
     "metadata": {},
     "output_type": "execute_result"
    }
   ],
   "source": [
    "string = re.sub(EMAIL, 'email@email.com', string)\n",
    "string"
   ]
  }
 ],
 "metadata": {
  "kernelspec": {
   "display_name": "Python 3",
   "language": "python",
   "name": "python3"
  },
  "language_info": {
   "codemirror_mode": {
    "name": "ipython",
    "version": 3
   },
   "file_extension": ".py",
   "mimetype": "text/x-python",
   "name": "python",
   "nbconvert_exporter": "python",
   "pygments_lexer": "ipython3",
   "version": "3.6.5"
  }
 },
 "nbformat": 4,
 "nbformat_minor": 2
}
