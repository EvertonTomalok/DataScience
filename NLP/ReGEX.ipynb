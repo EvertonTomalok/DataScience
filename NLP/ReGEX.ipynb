{
 "cells": [
  {
   "cell_type": "code",
   "execution_count": 1,
   "metadata": {},
   "outputs": [],
   "source": [
    "import re\n",
    "from collections import namedtuple"
   ]
  },
  {
   "cell_type": "code",
   "execution_count": 2,
   "metadata": {},
   "outputs": [],
   "source": [
    "CPF =  r'\\d{3}\\.?\\d{3}\\.?\\d{3}\\-?\\d{2}'\n",
    "DATA = r'\\d{1,2}\\/\\d{1,2}\\/\\d{2,4}'\n",
    "TELEFONE = r'\\(?\\d{2,3}\\)?\\s*\\d{4,5}\\-?\\.?\\s?\\d{4}'\n",
    "EMAIL = '[a-zA-Z0-9]+[_a-z0-9-\\.]*@[a-z0-9-]+\\.[a-z0-9\\.]*'\n",
    "REGEX = r'(?P<data>\\d{1,2}\\/\\d{1,2}\\/\\d{2,4})|(?P<cpf>\\d{3}\\.?\\d{3}\\.?\\d{3}\\-?\\d{2})|(?P<telefone>\\(?\\d{2,3}\\)?\\s*\\d{4,5}\\-?\\.?\\s?\\d{4})'"
   ]
  },
  {
   "cell_type": "code",
   "execution_count": 3,
   "metadata": {},
   "outputs": [],
   "source": [
    "string = 'Meu cpf é 385.141.378-40 e hoje é 07/12/2018 e amanha é 08/12/2018 e meu telefone é 11 94569-9198 '\\\n",
    "         'ou (11) 4442 0649, e meu email é evertontomalok123@gmail.com'"
   ]
  },
  {
   "cell_type": "code",
   "execution_count": 4,
   "metadata": {},
   "outputs": [
    {
     "data": {
      "text/plain": [
       "[CPF(cpf='385.141.378-40', inicio=10, fim=24),\n",
       " Data(data='07/12/2018', inicio=34, fim=44),\n",
       " Data(data='08/12/2018', inicio=56, fim=66),\n",
       " Telefone(telefone='11 94569-9198', inicio=84, fim=97),\n",
       " Telefone(telefone='(11) 4442 0649', inicio=101, fim=115)]"
      ]
     },
     "execution_count": 4,
     "metadata": {},
     "output_type": "execute_result"
    }
   ],
   "source": [
    "Data = namedtuple('Data', 'data inicio fim')\n",
    "Cpf = namedtuple('CPF', 'cpf inicio fim')\n",
    "Telefone = namedtuple('Telefone', 'telefone inicio fim')\n",
    "\n",
    "iterador = re.finditer(REGEX, string) \n",
    "\n",
    "items = []\n",
    "\n",
    "for item in iterador:\n",
    "    if item.group('data'):\n",
    "        items.append(Data(item.group('data'), item.start(), item.end()))\n",
    "    elif item.group('telefone'):\n",
    "        items.append(Telefone(item.group('telefone'), item.start(), item.end()))\n",
    "    elif item.group('cpf'):\n",
    "        items.append(Cpf(item.group('cpf'), item.start(), item.end()))\n",
    "        \n",
    "items"
   ]
  },
  {
   "cell_type": "code",
   "execution_count": 5,
   "metadata": {},
   "outputs": [
    {
     "data": {
      "text/plain": [
       "['385.141.378-40']"
      ]
     },
     "execution_count": 5,
     "metadata": {},
     "output_type": "execute_result"
    }
   ],
   "source": [
    "re.findall(CPF, string)"
   ]
  },
  {
   "cell_type": "code",
   "execution_count": 6,
   "metadata": {},
   "outputs": [
    {
     "data": {
      "text/plain": [
       "'Meu cpf é xxx.xxx.xxx-xx e hoje é 07/12/2018 e amanha é 08/12/2018 e meu telefone é 11 94569-9198 ou (11) 4442 0649, e meu email é everton.tomalok@ramper.com.br'"
      ]
     },
     "execution_count": 6,
     "metadata": {},
     "output_type": "execute_result"
    }
   ],
   "source": [
    "string = re.sub(CPF, 'xxx.xxx.xxx-xx', string)\n",
    "string"
   ]
  },
  {
   "cell_type": "code",
   "execution_count": 7,
   "metadata": {},
   "outputs": [
    {
     "data": {
      "text/plain": [
       "['07/12/2018', '08/12/2018']"
      ]
     },
     "execution_count": 7,
     "metadata": {},
     "output_type": "execute_result"
    }
   ],
   "source": [
    "re.findall(DATA, string)"
   ]
  },
  {
   "cell_type": "code",
   "execution_count": 8,
   "metadata": {},
   "outputs": [
    {
     "data": {
      "text/plain": [
       "'Meu cpf é xxx.xxx.xxx-xx e hoje é dd/mm/aaaa e amanha é dd/mm/aaaa e meu telefone é 11 94569-9198 ou (11) 4442 0649, e meu email é everton.tomalok@ramper.com.br'"
      ]
     },
     "execution_count": 8,
     "metadata": {},
     "output_type": "execute_result"
    }
   ],
   "source": [
    "string = re.sub(DATA, 'dd/mm/aaaa', string)\n",
    "string"
   ]
  },
  {
   "cell_type": "code",
   "execution_count": 9,
   "metadata": {},
   "outputs": [
    {
     "data": {
      "text/plain": [
       "['11 94569-9198', '(11) 4442 0649']"
      ]
     },
     "execution_count": 9,
     "metadata": {},
     "output_type": "execute_result"
    }
   ],
   "source": [
    "re.findall(TELEFONE, string)"
   ]
  },
  {
   "cell_type": "code",
   "execution_count": 10,
   "metadata": {},
   "outputs": [
    {
     "data": {
      "text/plain": [
       "'Meu cpf é xxx.xxx.xxx-xx e hoje é dd/mm/aaaa e amanha é dd/mm/aaaa e meu telefone é (xx) xxxxx-xxxx ou (xx) xxxxx-xxxx, e meu email é everton.tomalok@ramper.com.br'"
      ]
     },
     "execution_count": 10,
     "metadata": {},
     "output_type": "execute_result"
    }
   ],
   "source": [
    "string = re.sub(TELEFONE, '(xx) xxxxx-xxxx', string)\n",
    "string"
   ]
  },
  {
   "cell_type": "code",
   "execution_count": 11,
   "metadata": {},
   "outputs": [
    {
     "data": {
      "text/plain": [
       "['everton.tomalok@ramper.com.br']"
      ]
     },
     "execution_count": 11,
     "metadata": {},
     "output_type": "execute_result"
    }
   ],
   "source": [
    "re.findall(EMAIL, string)"
   ]
  },
  {
   "cell_type": "code",
   "execution_count": 12,
   "metadata": {},
   "outputs": [
    {
     "data": {
      "text/plain": [
       "'Meu cpf é xxx.xxx.xxx-xx e hoje é dd/mm/aaaa e amanha é dd/mm/aaaa e meu telefone é (xx) xxxxx-xxxx ou (xx) xxxxx-xxxx, e meu email é email@email.com'"
      ]
     },
     "execution_count": 12,
     "metadata": {},
     "output_type": "execute_result"
    }
   ],
   "source": [
    "string = re.sub(EMAIL, 'email@email.com', string)\n",
    "string"
   ]
  },
  {
   "cell_type": "code",
   "execution_count": 13,
   "metadata": {},
   "outputs": [],
   "source": [
    "title = 'Andamento do Processo n. 0004671-82.2016.8.21.0022 - 08/11/2018 do TJRS'\n",
    "\n",
    "corpo = \"\"\"\n",
    "1ª Vara Cível da Comarca de Pelotas Nota de Expediente Nº 1166/2018022/1.16.0002364-7 (CNJ 0004671-82.2016.8.21.0022) - ANDRE LUIS RICKES FISCHER (PP. MARCELO SOARES MENDES 83483/RS) X ESCAVADOR (PP. CAROLINA BICIGO 63961/RS E LEONARDO VALVERDE SUSART 35295/BA) E GOOGLE BRASIL (PP. EDUARDO LUIZ BROCK 91311/SP) .\n",
    "\n",
    "VISTOS. DIGAM AS PARTES SE PRETENDEM A PRODUÇÃO DE OUTRAS PROVAS, ESPECIFICANDO AS E JUSTIFICANDO AS. CASO SEJA POSTULADA A PROVA ORAL, DEVERÃO AS\n",
    "\n",
    "PARTES INFORMAR O NÚMERO DE TESTEMUNHAS A SEREM OUVIDAS PARA A ADEQUAÇÃO DA PAUTA. NO SILÊNCIO, O FEITO SERÁ JULGADO NO ESTADO EM QUE SE ENCONTRA. DILIGÊNCIAS LEGAIS. 022/1.16.0016756-8 (CNJ 0031981-63.2016.8.21.0022) - DELVAIR BILHALVA DE OLIVEIRA (PP. GIULIANE BECKER DARLEY 46989/RS E ROSANA CORREA RIBEIRO 48189/RS) X COOP. DE\n",
    "\n",
    "CRÉD. DE LIVRE ADM. DE ASSOC. DA ZONA SUL - SICREDI ZONA SUL (PP. CESAR CAZAUBON ARRIECHE 9809/RS E MARISTELA FEKSA NEUENFELDT 48139/RS).\n",
    "\n",
    "VISTOS. VISTA AO APELADO PARA APRESENTAR CONTRARRAZÕES, QUERENDO, NO PRAZO DE 15 DIAS. DILIGÊNCIAS LEGAIS.\n",
    "\"\"\""
   ]
  },
  {
   "cell_type": "code",
   "execution_count": 14,
   "metadata": {},
   "outputs": [
    {
     "data": {
      "text/plain": [
       "['0004671-82.2016.8.21.0022']"
      ]
     },
     "execution_count": 14,
     "metadata": {},
     "output_type": "execute_result"
    }
   ],
   "source": [
    "NUM_PROCESSO = r'\\d{7}-\\d{2}\\.\\d{4}\\.\\d\\.\\d{2}\\.\\d{4}'\n",
    "\n",
    "re.findall(NUM_PROCESSO, title)"
   ]
  },
  {
   "cell_type": "code",
   "execution_count": 15,
   "metadata": {},
   "outputs": [
    {
     "data": {
      "text/plain": [
       "['0004671-82.2016.8.21.0022', '0031981-63.2016.8.21.0022']"
      ]
     },
     "execution_count": 15,
     "metadata": {},
     "output_type": "execute_result"
    }
   ],
   "source": [
    "re.findall(NUM_PROCESSO, corpo)"
   ]
  },
  {
   "cell_type": "code",
   "execution_count": 16,
   "metadata": {},
   "outputs": [
    {
     "data": {
      "text/plain": [
       "'Andamento do Processo n. REMOVIDO - 08/11/2018 do TJRS'"
      ]
     },
     "execution_count": 16,
     "metadata": {},
     "output_type": "execute_result"
    }
   ],
   "source": [
    "re.sub(NUM_PROCESSO, 'REMOVIDO', title)"
   ]
  },
  {
   "cell_type": "code",
   "execution_count": 17,
   "metadata": {},
   "outputs": [
    {
     "name": "stdout",
     "output_type": "stream",
     "text": [
      "\n",
      "1ª Vara Cível da Comarca de Pelotas Nota de Expediente Nº 1166/2018022/1.16.0002364-7 (CNJ << REMOVIDO >>) - ANDRE LUIS RICKES FISCHER (PP. MARCELO SOARES MENDES 83483/RS) X ESCAVADOR (PP. CAROLINA BICIGO 63961/RS E LEONARDO VALVERDE SUSART 35295/BA) E GOOGLE BRASIL (PP. EDUARDO LUIZ BROCK 91311/SP) .\n",
      "\n",
      "VISTOS. DIGAM AS PARTES SE PRETENDEM A PRODUÇÃO DE OUTRAS PROVAS, ESPECIFICANDO AS E JUSTIFICANDO AS. CASO SEJA POSTULADA A PROVA ORAL, DEVERÃO AS\n",
      "\n",
      "PARTES INFORMAR O NÚMERO DE TESTEMUNHAS A SEREM OUVIDAS PARA A ADEQUAÇÃO DA PAUTA. NO SILÊNCIO, O FEITO SERÁ JULGADO NO ESTADO EM QUE SE ENCONTRA. DILIGÊNCIAS LEGAIS. 022/1.16.0016756-8 (CNJ << REMOVIDO >>) - DELVAIR BILHALVA DE OLIVEIRA (PP. GIULIANE BECKER DARLEY 46989/RS E ROSANA CORREA RIBEIRO 48189/RS) X COOP. DE\n",
      "\n",
      "CRÉD. DE LIVRE ADM. DE ASSOC. DA ZONA SUL - SICREDI ZONA SUL (PP. CESAR CAZAUBON ARRIECHE 9809/RS E MARISTELA FEKSA NEUENFELDT 48139/RS).\n",
      "\n",
      "VISTOS. VISTA AO APELADO PARA APRESENTAR CONTRARRAZÕES, QUERENDO, NO PRAZO DE 15 DIAS. DILIGÊNCIAS LEGAIS.\n",
      "\n"
     ]
    }
   ],
   "source": [
    "print(re.sub(NUM_PROCESSO, '<< REMOVIDO >>', corpo))"
   ]
  }
 ],
 "metadata": {
  "kernelspec": {
   "display_name": "Python 3",
   "language": "python",
   "name": "python3"
  },
  "language_info": {
   "codemirror_mode": {
    "name": "ipython",
    "version": 3
   },
   "file_extension": ".py",
   "mimetype": "text/x-python",
   "name": "python",
   "nbconvert_exporter": "python",
   "pygments_lexer": "ipython3",
   "version": "3.6.5"
  }
 },
 "nbformat": 4,
 "nbformat_minor": 2
}
