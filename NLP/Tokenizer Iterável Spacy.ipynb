{
 "cells": [
  {
   "cell_type": "markdown",
   "metadata": {},
   "source": [
    "## Requisitos\n",
    "\n",
    "    pip install spacy\n",
    "    python -m spacy download pt_core_news_sm"
   ]
  },
  {
   "cell_type": "code",
   "execution_count": 1,
   "metadata": {},
   "outputs": [
    {
     "name": "stdout",
     "output_type": "stream",
     "text": [
      "Hoje\n",
      "é\n",
      "terça\n",
      "-\n",
      "feira\n",
      ".\n",
      "Segunda\n",
      "-\n",
      "feira\n",
      "fui\n",
      "a\n",
      "o\n",
      "médico\n",
      "e\n",
      "o\n",
      "Dr.\n",
      "Arnaldo\n",
      "me\n",
      "receitou\n",
      "um\n",
      "remédio\n",
      ".\n"
     ]
    }
   ],
   "source": [
    "import re\n",
    "import spacy\n",
    "from string import punctuation\n",
    "from collections import Counter, OrderedDict\n",
    "from spacy.symbols import ORTH, LEMMA, POS, TAG\n",
    "\n",
    "\n",
    "nlp = spacy.load('pt_core_news_sm')\n",
    "\n",
    "for n in nlp('Hoje é terça-feira. Segunda-feira fui ao médico e o Dr. Arnaldo me receitou um remédio.'):\n",
    "    print(n.text)"
   ]
  },
  {
   "cell_type": "markdown",
   "metadata": {},
   "source": [
    "\n",
    "\n",
    "#### Tokenizando com regex pura"
   ]
  },
  {
   "cell_type": "code",
   "execution_count": 2,
   "metadata": {},
   "outputs": [
    {
     "data": {
      "text/plain": [
       "['Hoje',\n",
       " 'é',\n",
       " 'terça-feira',\n",
       " '.',\n",
       " 'Segunda-feira',\n",
       " 'fui',\n",
       " 'ao',\n",
       " 'médico',\n",
       " ',',\n",
       " 'e',\n",
       " 'o',\n",
       " 'dr.',\n",
       " 'Arnaldo',\n",
       " 'me',\n",
       " 'receitou',\n",
       " 'um',\n",
       " 'remédio',\n",
       " '.']"
      ]
     },
     "execution_count": 2,
     "metadata": {},
     "output_type": "execute_result"
    }
   ],
   "source": [
    "import re\n",
    "\n",
    "PATTERN = re.compile(r'''(?:Dr\\.|Dra\\.|Sr\\.|Sra\\.)|[\\.,;:]+|\\w+\\-\\w+|\\w+''', re.IGNORECASE)\n",
    "\n",
    "re.findall(PATTERN, 'Hoje é terça-feira. Segunda-feira fui ao médico, e o dr. Arnaldo me receitou um remédio.')"
   ]
  },
  {
   "cell_type": "markdown",
   "metadata": {},
   "source": [
    "<br>\n",
    "#### Criando casos especiais de tokens no Spacy"
   ]
  },
  {
   "cell_type": "code",
   "execution_count": 3,
   "metadata": {},
   "outputs": [],
   "source": [
    "special_cases = {\n",
    "    'segunda-feira': [{ORTH: u'segunda-feira', LEMMA: u'segunda', POS: u'NOUN'}],\n",
    "    'terça-feira': [{ORTH: u'terça-feira', LEMMA: u'terça', POS: u'NOUN'}],\n",
    "    'quarta-feira': [{ORTH: u'quarta-feira', LEMMA: u'quarta', POS: u'NOUN'}],\n",
    "    'quinta-feira': [{ORTH: u'quinta-feira', LEMMA: u'quinta', POS: u'NOUN'}],\n",
    "    'sexta-feira': [{ORTH: u'sexta-feira', LEMMA: u'sexta', POS: u'NOUN'}],\n",
    "    'Segunda-feira': [{ORTH: u'Segunda-feira', LEMMA: u'Segunda', POS: u'NOUN'}],\n",
    "    'Terça-feira': [{ORTH: u'Terça-feira', LEMMA: u'Terça', POS: u'NOUN'}],\n",
    "    'Quarta-feira': [{ORTH: u'Quarta-feira', LEMMA: u'Quarta', POS: u'NOUN'}],\n",
    "    'Quinta-feira': [{ORTH: u'Quinta-feira', LEMMA: u'Quinta', POS: u'NOUN'}],\n",
    "    'Sexta-feira': [{ORTH: u'Sexta-feira', LEMMA: u'Sexta', POS: u'NOUN'}]\n",
    "}"
   ]
  },
  {
   "cell_type": "code",
   "execution_count": 4,
   "metadata": {},
   "outputs": [],
   "source": [
    "def add_cases(dicio_cases, nlp_obj):\n",
    "    \n",
    "    for key, value in dicio_cases.items():\n",
    "        nlp_obj.tokenizer.add_special_case(key, value)\n",
    "        \n",
    "add_cases(special_cases, nlp)"
   ]
  },
  {
   "cell_type": "code",
   "execution_count": 5,
   "metadata": {},
   "outputs": [
    {
     "name": "stdout",
     "output_type": "stream",
     "text": [
      "Segunda-feira\n",
      "fui\n",
      "a\n",
      "o\n",
      "médico\n",
      "e\n",
      "o\n",
      "Dr.\n",
      "Arnaldo\n",
      "me\n",
      "receitou\n",
      "um\n",
      "remédio\n",
      ".\n"
     ]
    }
   ],
   "source": [
    "for n in nlp('Segunda-feira fui ao médico e o Dr. Arnaldo me receitou um remédio.'):\n",
    "    print(n.text)"
   ]
  },
  {
   "cell_type": "code",
   "execution_count": 6,
   "metadata": {},
   "outputs": [],
   "source": [
    "from collections import namedtuple\n",
    "\n",
    "\n",
    "Ner = namedtuple('NER', 'texto label start_char end_char')\n",
    "\n",
    "\n",
    "class TextNLP:\n",
    "    \n",
    "    def __init__(self, text):\n",
    "        \n",
    "        assert isinstance(text, str), \"'A classe deve ser inicializada com uma string sendo passada por parâmetro'\"\n",
    "        \n",
    "        if text == '':\n",
    "            raise ValueError('A string passada não pode estar vazia')\n",
    "        \n",
    "        self.text = text\n",
    "        self.doc = nlp(self.text)\n",
    "        \n",
    "        \n",
    "    def __iter__(self):\n",
    "        \n",
    "        return (t.text for t in self.doc)\n",
    "    \n",
    "    \n",
    "    def __repr__(self):\n",
    "        tokens = [(tok.text, tok.pos_) for tok in self.doc]\n",
    "        \n",
    "        return \"Texto: %s\\n\\nTokens: %s\\n\\nNum Tokens: %d\" % (self.text, tokens, len(tokens))\n",
    "    \n",
    "    \n",
    "    @property\n",
    "    def words(self):\n",
    "            \n",
    "        return list(self.__iter__())\n",
    "    \n",
    "    \n",
    "    def words_preprocessing(self, stop_words_remove=True, punctuation_remove=True, lemma=False):\n",
    "        \n",
    "        tokens = self.doc\n",
    "        \n",
    "        if stop_words_remove and punctuation_remove:\n",
    "            tokens = (tok for tok in tokens if (not tok.is_punct and not tok.is_stop))\n",
    "        \n",
    "        elif punctuation_remove:\n",
    "            tokens = (tok for tok in tokens if not tok.is_punct)\n",
    "            \n",
    "        elif stop_words_remove:\n",
    "            tokens = (tok for tok in tokens if not tok.is_stop)\n",
    "            \n",
    "        else:\n",
    "            tokens = (tok for tok in tokens)\n",
    "            \n",
    "        if lemma:\n",
    "            tokens = (tok.lemma_ for tok in tokens)\n",
    "            \n",
    "        return tokens\n",
    "    \n",
    "    \n",
    "    @property\n",
    "    def sents(self):\n",
    "                \n",
    "        return (sent for sent in self.doc.sents)\n",
    "    \n",
    "    \n",
    "    def ents(self):\n",
    "        for ent in self.doc.ents:\n",
    "            yield Ner(ent.text, ent.label_, ent.start_char, ent.end_char)\n",
    "    \n",
    "    \n",
    "    def tokens_counter(self, ordered=True, reverse=True):\n",
    "        tok = list(self.__iter__())\n",
    "        \n",
    "        tok = OrderedDict(Counter(tok))\n",
    "        \n",
    "        if ordered:\n",
    "            tok = OrderedDict(sorted(tok.items(), key=lambda x: x[1], reverse=reverse))\n",
    "            \n",
    "        return tok\n",
    "        "
   ]
  },
  {
   "cell_type": "code",
   "execution_count": 7,
   "metadata": {},
   "outputs": [],
   "source": [
    "nlp_ = TextNLP('Segunda-feira fui ao médico e o Dr. Arnaldo Costa da Silva da JusBrasil me receitou um remédio. Na próxima semana, irei voltar a Curitiba.')"
   ]
  },
  {
   "cell_type": "markdown",
   "metadata": {},
   "source": [
    "<br>\n",
    "### Representação do objeto"
   ]
  },
  {
   "cell_type": "code",
   "execution_count": 8,
   "metadata": {},
   "outputs": [
    {
     "data": {
      "text/plain": [
       "Texto: Segunda-feira fui ao médico e o Dr. Arnaldo Costa da Silva da JusBrasil me receitou um remédio. Na próxima semana, irei voltar a Curitiba.\n",
       "\n",
       "Tokens: [('Segunda-feira', 'NOUN'), ('fui', 'VERB'), ('a', 'ADP'), ('o', 'DET'), ('médico', 'NOUN'), ('e', 'CCONJ'), ('o', 'DET'), ('Dr.', 'PROPN'), ('Arnaldo', 'PROPN'), ('Costa', 'PROPN'), ('da', 'PROPN'), ('Silva', 'PROPN'), ('da', 'ADP'), ('JusBrasil', 'PROPN'), ('me', 'PRON'), ('receitou', 'VERB'), ('um', 'DET'), ('remédio', 'NOUN'), ('.', 'PUNCT'), ('Na', 'DET'), ('próxima', 'ADJ'), ('semana', 'NOUN'), (',', 'PUNCT'), ('irei', 'VERB'), ('voltar', 'VERB'), ('a', 'DET'), ('Curitiba', 'PROPN'), ('.', 'PUNCT')]\n",
       "\n",
       "Num Tokens: 28"
      ]
     },
     "execution_count": 8,
     "metadata": {},
     "output_type": "execute_result"
    }
   ],
   "source": [
    "nlp_"
   ]
  },
  {
   "cell_type": "markdown",
   "metadata": {},
   "source": [
    "### Tokenizando"
   ]
  },
  {
   "cell_type": "code",
   "execution_count": 9,
   "metadata": {},
   "outputs": [
    {
     "data": {
      "text/plain": [
       "['Segunda-feira',\n",
       " 'fui',\n",
       " 'a',\n",
       " 'o',\n",
       " 'médico',\n",
       " 'e',\n",
       " 'o',\n",
       " 'Dr.',\n",
       " 'Arnaldo',\n",
       " 'Costa',\n",
       " 'da',\n",
       " 'Silva',\n",
       " 'da',\n",
       " 'JusBrasil',\n",
       " 'me',\n",
       " 'receitou',\n",
       " 'um',\n",
       " 'remédio',\n",
       " '.',\n",
       " 'Na',\n",
       " 'próxima',\n",
       " 'semana',\n",
       " ',',\n",
       " 'irei',\n",
       " 'voltar',\n",
       " 'a',\n",
       " 'Curitiba',\n",
       " '.']"
      ]
     },
     "execution_count": 9,
     "metadata": {},
     "output_type": "execute_result"
    }
   ],
   "source": [
    "nlp_.words"
   ]
  },
  {
   "cell_type": "markdown",
   "metadata": {},
   "source": [
    "## NER"
   ]
  },
  {
   "cell_type": "code",
   "execution_count": 10,
   "metadata": {},
   "outputs": [
    {
     "name": "stdout",
     "output_type": "stream",
     "text": [
      "NER(texto='Dr. Arnaldo Costa da Silva da JusBrasil', label='PER', start_char=32, end_char=71)\n",
      "\n",
      "NER(texto='Curitiba', label='LOC', start_char=129, end_char=137)\n",
      "\n"
     ]
    }
   ],
   "source": [
    "for ent in nlp_.ents():\n",
    "    print(ent, end='\\n\\n')"
   ]
  },
  {
   "cell_type": "code",
   "execution_count": 11,
   "metadata": {},
   "outputs": [
    {
     "data": {
      "text/plain": [
       "'Dr. Arnaldo Costa da Silva'"
      ]
     },
     "execution_count": 11,
     "metadata": {},
     "output_type": "execute_result"
    }
   ],
   "source": [
    "str(nlp_.doc)[32:58]"
   ]
  },
  {
   "cell_type": "code",
   "execution_count": 12,
   "metadata": {},
   "outputs": [
    {
     "data": {
      "text/html": [
       "<div class=\"entities\" style=\"line-height: 2.5\">Segunda-feira fui ao médico e o \n",
       "<mark class=\"entity\" style=\"background: #ddd; padding: 0.45em 0.6em; margin: 0 0.25em; line-height: 1; border-radius: 0.35em; box-decoration-break: clone; -webkit-box-decoration-break: clone\">\n",
       "    Dr. Arnaldo Costa da Silva da JusBrasil\n",
       "    <span style=\"font-size: 0.8em; font-weight: bold; line-height: 1; border-radius: 0.35em; text-transform: uppercase; vertical-align: middle; margin-left: 0.5rem\">PER</span>\n",
       "</mark>\n",
       " me receitou um remédio. Na próxima semana, irei voltar a \n",
       "<mark class=\"entity\" style=\"background: #ff9561; padding: 0.45em 0.6em; margin: 0 0.25em; line-height: 1; border-radius: 0.35em; box-decoration-break: clone; -webkit-box-decoration-break: clone\">\n",
       "    Curitiba\n",
       "    <span style=\"font-size: 0.8em; font-weight: bold; line-height: 1; border-radius: 0.35em; text-transform: uppercase; vertical-align: middle; margin-left: 0.5rem\">LOC</span>\n",
       "</mark>\n",
       ".</div>"
      ],
      "text/plain": [
       "<IPython.core.display.HTML object>"
      ]
     },
     "metadata": {},
     "output_type": "display_data"
    }
   ],
   "source": [
    "from spacy import displacy\n",
    "\n",
    "displacy.render(nlp_.doc, style='ent', jupyter=True)"
   ]
  },
  {
   "cell_type": "code",
   "execution_count": 13,
   "metadata": {},
   "outputs": [
    {
     "data": {
      "text/html": [
       "<svg xmlns=\"http://www.w3.org/2000/svg\" xmlns:xlink=\"http://www.w3.org/1999/xlink\" id=\"0\" class=\"displacy\" width=\"3050\" height=\"557.0\" style=\"max-width: none; height: 557.0px; color: #000000; background: #ffffff; font-family: Arial\">\n",
       "<text class=\"displacy-token\" fill=\"currentColor\" text-anchor=\"middle\" y=\"467.0\">\n",
       "    <tspan class=\"displacy-word\" fill=\"currentColor\" x=\"50\">Segunda-feira</tspan>\n",
       "    <tspan class=\"displacy-tag\" dy=\"2em\" fill=\"currentColor\" x=\"50\"></tspan>\n",
       "</text>\n",
       "\n",
       "<text class=\"displacy-token\" fill=\"currentColor\" text-anchor=\"middle\" y=\"467.0\">\n",
       "    <tspan class=\"displacy-word\" fill=\"currentColor\" x=\"170\">fui</tspan>\n",
       "    <tspan class=\"displacy-tag\" dy=\"2em\" fill=\"currentColor\" x=\"170\">VERB</tspan>\n",
       "</text>\n",
       "\n",
       "<text class=\"displacy-token\" fill=\"currentColor\" text-anchor=\"middle\" y=\"467.0\">\n",
       "    <tspan class=\"displacy-word\" fill=\"currentColor\" x=\"290\">a</tspan>\n",
       "    <tspan class=\"displacy-tag\" dy=\"2em\" fill=\"currentColor\" x=\"290\">ADP</tspan>\n",
       "</text>\n",
       "\n",
       "<text class=\"displacy-token\" fill=\"currentColor\" text-anchor=\"middle\" y=\"467.0\">\n",
       "    <tspan class=\"displacy-word\" fill=\"currentColor\" x=\"410\">o</tspan>\n",
       "    <tspan class=\"displacy-tag\" dy=\"2em\" fill=\"currentColor\" x=\"410\">DET</tspan>\n",
       "</text>\n",
       "\n",
       "<text class=\"displacy-token\" fill=\"currentColor\" text-anchor=\"middle\" y=\"467.0\">\n",
       "    <tspan class=\"displacy-word\" fill=\"currentColor\" x=\"530\">médico</tspan>\n",
       "    <tspan class=\"displacy-tag\" dy=\"2em\" fill=\"currentColor\" x=\"530\">NOUN</tspan>\n",
       "</text>\n",
       "\n",
       "<text class=\"displacy-token\" fill=\"currentColor\" text-anchor=\"middle\" y=\"467.0\">\n",
       "    <tspan class=\"displacy-word\" fill=\"currentColor\" x=\"650\">e</tspan>\n",
       "    <tspan class=\"displacy-tag\" dy=\"2em\" fill=\"currentColor\" x=\"650\">CCONJ</tspan>\n",
       "</text>\n",
       "\n",
       "<text class=\"displacy-token\" fill=\"currentColor\" text-anchor=\"middle\" y=\"467.0\">\n",
       "    <tspan class=\"displacy-word\" fill=\"currentColor\" x=\"770\">o</tspan>\n",
       "    <tspan class=\"displacy-tag\" dy=\"2em\" fill=\"currentColor\" x=\"770\">DET</tspan>\n",
       "</text>\n",
       "\n",
       "<text class=\"displacy-token\" fill=\"currentColor\" text-anchor=\"middle\" y=\"467.0\">\n",
       "    <tspan class=\"displacy-word\" fill=\"currentColor\" x=\"890\">Dr.</tspan>\n",
       "    <tspan class=\"displacy-tag\" dy=\"2em\" fill=\"currentColor\" x=\"890\">PROPN</tspan>\n",
       "</text>\n",
       "\n",
       "<text class=\"displacy-token\" fill=\"currentColor\" text-anchor=\"middle\" y=\"467.0\">\n",
       "    <tspan class=\"displacy-word\" fill=\"currentColor\" x=\"1010\">Arnaldo</tspan>\n",
       "    <tspan class=\"displacy-tag\" dy=\"2em\" fill=\"currentColor\" x=\"1010\">PROPN</tspan>\n",
       "</text>\n",
       "\n",
       "<text class=\"displacy-token\" fill=\"currentColor\" text-anchor=\"middle\" y=\"467.0\">\n",
       "    <tspan class=\"displacy-word\" fill=\"currentColor\" x=\"1130\">Costa</tspan>\n",
       "    <tspan class=\"displacy-tag\" dy=\"2em\" fill=\"currentColor\" x=\"1130\">PROPN</tspan>\n",
       "</text>\n",
       "\n",
       "<text class=\"displacy-token\" fill=\"currentColor\" text-anchor=\"middle\" y=\"467.0\">\n",
       "    <tspan class=\"displacy-word\" fill=\"currentColor\" x=\"1250\">da</tspan>\n",
       "    <tspan class=\"displacy-tag\" dy=\"2em\" fill=\"currentColor\" x=\"1250\">PROPN</tspan>\n",
       "</text>\n",
       "\n",
       "<text class=\"displacy-token\" fill=\"currentColor\" text-anchor=\"middle\" y=\"467.0\">\n",
       "    <tspan class=\"displacy-word\" fill=\"currentColor\" x=\"1370\">Silva</tspan>\n",
       "    <tspan class=\"displacy-tag\" dy=\"2em\" fill=\"currentColor\" x=\"1370\">PROPN</tspan>\n",
       "</text>\n",
       "\n",
       "<text class=\"displacy-token\" fill=\"currentColor\" text-anchor=\"middle\" y=\"467.0\">\n",
       "    <tspan class=\"displacy-word\" fill=\"currentColor\" x=\"1490\">da</tspan>\n",
       "    <tspan class=\"displacy-tag\" dy=\"2em\" fill=\"currentColor\" x=\"1490\">ADP</tspan>\n",
       "</text>\n",
       "\n",
       "<text class=\"displacy-token\" fill=\"currentColor\" text-anchor=\"middle\" y=\"467.0\">\n",
       "    <tspan class=\"displacy-word\" fill=\"currentColor\" x=\"1610\">JusBrasil</tspan>\n",
       "    <tspan class=\"displacy-tag\" dy=\"2em\" fill=\"currentColor\" x=\"1610\">PROPN</tspan>\n",
       "</text>\n",
       "\n",
       "<text class=\"displacy-token\" fill=\"currentColor\" text-anchor=\"middle\" y=\"467.0\">\n",
       "    <tspan class=\"displacy-word\" fill=\"currentColor\" x=\"1730\">me</tspan>\n",
       "    <tspan class=\"displacy-tag\" dy=\"2em\" fill=\"currentColor\" x=\"1730\">PRON</tspan>\n",
       "</text>\n",
       "\n",
       "<text class=\"displacy-token\" fill=\"currentColor\" text-anchor=\"middle\" y=\"467.0\">\n",
       "    <tspan class=\"displacy-word\" fill=\"currentColor\" x=\"1850\">receitou</tspan>\n",
       "    <tspan class=\"displacy-tag\" dy=\"2em\" fill=\"currentColor\" x=\"1850\">VERB</tspan>\n",
       "</text>\n",
       "\n",
       "<text class=\"displacy-token\" fill=\"currentColor\" text-anchor=\"middle\" y=\"467.0\">\n",
       "    <tspan class=\"displacy-word\" fill=\"currentColor\" x=\"1970\">um</tspan>\n",
       "    <tspan class=\"displacy-tag\" dy=\"2em\" fill=\"currentColor\" x=\"1970\">DET</tspan>\n",
       "</text>\n",
       "\n",
       "<text class=\"displacy-token\" fill=\"currentColor\" text-anchor=\"middle\" y=\"467.0\">\n",
       "    <tspan class=\"displacy-word\" fill=\"currentColor\" x=\"2090\">remédio.</tspan>\n",
       "    <tspan class=\"displacy-tag\" dy=\"2em\" fill=\"currentColor\" x=\"2090\">NOUN</tspan>\n",
       "</text>\n",
       "\n",
       "<text class=\"displacy-token\" fill=\"currentColor\" text-anchor=\"middle\" y=\"467.0\">\n",
       "    <tspan class=\"displacy-word\" fill=\"currentColor\" x=\"2210\">Na</tspan>\n",
       "    <tspan class=\"displacy-tag\" dy=\"2em\" fill=\"currentColor\" x=\"2210\">DET</tspan>\n",
       "</text>\n",
       "\n",
       "<text class=\"displacy-token\" fill=\"currentColor\" text-anchor=\"middle\" y=\"467.0\">\n",
       "    <tspan class=\"displacy-word\" fill=\"currentColor\" x=\"2330\">próxima</tspan>\n",
       "    <tspan class=\"displacy-tag\" dy=\"2em\" fill=\"currentColor\" x=\"2330\">ADJ</tspan>\n",
       "</text>\n",
       "\n",
       "<text class=\"displacy-token\" fill=\"currentColor\" text-anchor=\"middle\" y=\"467.0\">\n",
       "    <tspan class=\"displacy-word\" fill=\"currentColor\" x=\"2450\">semana,</tspan>\n",
       "    <tspan class=\"displacy-tag\" dy=\"2em\" fill=\"currentColor\" x=\"2450\">NOUN</tspan>\n",
       "</text>\n",
       "\n",
       "<text class=\"displacy-token\" fill=\"currentColor\" text-anchor=\"middle\" y=\"467.0\">\n",
       "    <tspan class=\"displacy-word\" fill=\"currentColor\" x=\"2570\">irei</tspan>\n",
       "    <tspan class=\"displacy-tag\" dy=\"2em\" fill=\"currentColor\" x=\"2570\">VERB</tspan>\n",
       "</text>\n",
       "\n",
       "<text class=\"displacy-token\" fill=\"currentColor\" text-anchor=\"middle\" y=\"467.0\">\n",
       "    <tspan class=\"displacy-word\" fill=\"currentColor\" x=\"2690\">voltar</tspan>\n",
       "    <tspan class=\"displacy-tag\" dy=\"2em\" fill=\"currentColor\" x=\"2690\">VERB</tspan>\n",
       "</text>\n",
       "\n",
       "<text class=\"displacy-token\" fill=\"currentColor\" text-anchor=\"middle\" y=\"467.0\">\n",
       "    <tspan class=\"displacy-word\" fill=\"currentColor\" x=\"2810\">a</tspan>\n",
       "    <tspan class=\"displacy-tag\" dy=\"2em\" fill=\"currentColor\" x=\"2810\">DET</tspan>\n",
       "</text>\n",
       "\n",
       "<text class=\"displacy-token\" fill=\"currentColor\" text-anchor=\"middle\" y=\"467.0\">\n",
       "    <tspan class=\"displacy-word\" fill=\"currentColor\" x=\"2930\">Curitiba.</tspan>\n",
       "    <tspan class=\"displacy-tag\" dy=\"2em\" fill=\"currentColor\" x=\"2930\">PROPN</tspan>\n",
       "</text>\n",
       "\n",
       "<g class=\"displacy-arrow\">\n",
       "    <path class=\"displacy-arc\" id=\"arrow-0-0\" stroke-width=\"2px\" d=\"M70,422.0 C70,362.0 140.0,362.0 140.0,422.0\" fill=\"none\" stroke=\"currentColor\"/>\n",
       "    <text dy=\"1.25em\" style=\"font-size: 0.8em; letter-spacing: 1px\">\n",
       "        <textPath xlink:href=\"#arrow-0-0\" class=\"displacy-label\" startOffset=\"50%\" fill=\"currentColor\" text-anchor=\"middle\">nsubj</textPath>\n",
       "    </text>\n",
       "    <path class=\"displacy-arrowhead\" d=\"M70,424.0 L62,412.0 78,412.0\" fill=\"currentColor\"/>\n",
       "</g>\n",
       "\n",
       "<g class=\"displacy-arrow\">\n",
       "    <path class=\"displacy-arc\" id=\"arrow-0-1\" stroke-width=\"2px\" d=\"M310,422.0 C310,302.0 505.0,302.0 505.0,422.0\" fill=\"none\" stroke=\"currentColor\"/>\n",
       "    <text dy=\"1.25em\" style=\"font-size: 0.8em; letter-spacing: 1px\">\n",
       "        <textPath xlink:href=\"#arrow-0-1\" class=\"displacy-label\" startOffset=\"50%\" fill=\"currentColor\" text-anchor=\"middle\">case</textPath>\n",
       "    </text>\n",
       "    <path class=\"displacy-arrowhead\" d=\"M310,424.0 L302,412.0 318,412.0\" fill=\"currentColor\"/>\n",
       "</g>\n",
       "\n",
       "<g class=\"displacy-arrow\">\n",
       "    <path class=\"displacy-arc\" id=\"arrow-0-2\" stroke-width=\"2px\" d=\"M430,422.0 C430,362.0 500.0,362.0 500.0,422.0\" fill=\"none\" stroke=\"currentColor\"/>\n",
       "    <text dy=\"1.25em\" style=\"font-size: 0.8em; letter-spacing: 1px\">\n",
       "        <textPath xlink:href=\"#arrow-0-2\" class=\"displacy-label\" startOffset=\"50%\" fill=\"currentColor\" text-anchor=\"middle\">det</textPath>\n",
       "    </text>\n",
       "    <path class=\"displacy-arrowhead\" d=\"M430,424.0 L422,412.0 438,412.0\" fill=\"currentColor\"/>\n",
       "</g>\n",
       "\n",
       "<g class=\"displacy-arrow\">\n",
       "    <path class=\"displacy-arc\" id=\"arrow-0-3\" stroke-width=\"2px\" d=\"M190,422.0 C190,242.0 510.0,242.0 510.0,422.0\" fill=\"none\" stroke=\"currentColor\"/>\n",
       "    <text dy=\"1.25em\" style=\"font-size: 0.8em; letter-spacing: 1px\">\n",
       "        <textPath xlink:href=\"#arrow-0-3\" class=\"displacy-label\" startOffset=\"50%\" fill=\"currentColor\" text-anchor=\"middle\">obl</textPath>\n",
       "    </text>\n",
       "    <path class=\"displacy-arrowhead\" d=\"M510.0,424.0 L518.0,412.0 502.0,412.0\" fill=\"currentColor\"/>\n",
       "</g>\n",
       "\n",
       "<g class=\"displacy-arrow\">\n",
       "    <path class=\"displacy-arc\" id=\"arrow-0-4\" stroke-width=\"2px\" d=\"M670,422.0 C670,302.0 865.0,302.0 865.0,422.0\" fill=\"none\" stroke=\"currentColor\"/>\n",
       "    <text dy=\"1.25em\" style=\"font-size: 0.8em; letter-spacing: 1px\">\n",
       "        <textPath xlink:href=\"#arrow-0-4\" class=\"displacy-label\" startOffset=\"50%\" fill=\"currentColor\" text-anchor=\"middle\">cc</textPath>\n",
       "    </text>\n",
       "    <path class=\"displacy-arrowhead\" d=\"M670,424.0 L662,412.0 678,412.0\" fill=\"currentColor\"/>\n",
       "</g>\n",
       "\n",
       "<g class=\"displacy-arrow\">\n",
       "    <path class=\"displacy-arc\" id=\"arrow-0-5\" stroke-width=\"2px\" d=\"M790,422.0 C790,362.0 860.0,362.0 860.0,422.0\" fill=\"none\" stroke=\"currentColor\"/>\n",
       "    <text dy=\"1.25em\" style=\"font-size: 0.8em; letter-spacing: 1px\">\n",
       "        <textPath xlink:href=\"#arrow-0-5\" class=\"displacy-label\" startOffset=\"50%\" fill=\"currentColor\" text-anchor=\"middle\">det</textPath>\n",
       "    </text>\n",
       "    <path class=\"displacy-arrowhead\" d=\"M790,424.0 L782,412.0 798,412.0\" fill=\"currentColor\"/>\n",
       "</g>\n",
       "\n",
       "<g class=\"displacy-arrow\">\n",
       "    <path class=\"displacy-arc\" id=\"arrow-0-6\" stroke-width=\"2px\" d=\"M910,422.0 C910,62.0 1845.0,62.0 1845.0,422.0\" fill=\"none\" stroke=\"currentColor\"/>\n",
       "    <text dy=\"1.25em\" style=\"font-size: 0.8em; letter-spacing: 1px\">\n",
       "        <textPath xlink:href=\"#arrow-0-6\" class=\"displacy-label\" startOffset=\"50%\" fill=\"currentColor\" text-anchor=\"middle\">nsubj</textPath>\n",
       "    </text>\n",
       "    <path class=\"displacy-arrowhead\" d=\"M910,424.0 L902,412.0 918,412.0\" fill=\"currentColor\"/>\n",
       "</g>\n",
       "\n",
       "<g class=\"displacy-arrow\">\n",
       "    <path class=\"displacy-arc\" id=\"arrow-0-7\" stroke-width=\"2px\" d=\"M910,422.0 C910,362.0 980.0,362.0 980.0,422.0\" fill=\"none\" stroke=\"currentColor\"/>\n",
       "    <text dy=\"1.25em\" style=\"font-size: 0.8em; letter-spacing: 1px\">\n",
       "        <textPath xlink:href=\"#arrow-0-7\" class=\"displacy-label\" startOffset=\"50%\" fill=\"currentColor\" text-anchor=\"middle\">appos</textPath>\n",
       "    </text>\n",
       "    <path class=\"displacy-arrowhead\" d=\"M980.0,424.0 L988.0,412.0 972.0,412.0\" fill=\"currentColor\"/>\n",
       "</g>\n",
       "\n",
       "<g class=\"displacy-arrow\">\n",
       "    <path class=\"displacy-arc\" id=\"arrow-0-8\" stroke-width=\"2px\" d=\"M1030,422.0 C1030,362.0 1100.0,362.0 1100.0,422.0\" fill=\"none\" stroke=\"currentColor\"/>\n",
       "    <text dy=\"1.25em\" style=\"font-size: 0.8em; letter-spacing: 1px\">\n",
       "        <textPath xlink:href=\"#arrow-0-8\" class=\"displacy-label\" startOffset=\"50%\" fill=\"currentColor\" text-anchor=\"middle\">flat:name</textPath>\n",
       "    </text>\n",
       "    <path class=\"displacy-arrowhead\" d=\"M1100.0,424.0 L1108.0,412.0 1092.0,412.0\" fill=\"currentColor\"/>\n",
       "</g>\n",
       "\n",
       "<g class=\"displacy-arrow\">\n",
       "    <path class=\"displacy-arc\" id=\"arrow-0-9\" stroke-width=\"2px\" d=\"M1270,422.0 C1270,362.0 1340.0,362.0 1340.0,422.0\" fill=\"none\" stroke=\"currentColor\"/>\n",
       "    <text dy=\"1.25em\" style=\"font-size: 0.8em; letter-spacing: 1px\">\n",
       "        <textPath xlink:href=\"#arrow-0-9\" class=\"displacy-label\" startOffset=\"50%\" fill=\"currentColor\" text-anchor=\"middle\">case</textPath>\n",
       "    </text>\n",
       "    <path class=\"displacy-arrowhead\" d=\"M1270,424.0 L1262,412.0 1278,412.0\" fill=\"currentColor\"/>\n",
       "</g>\n",
       "\n",
       "<g class=\"displacy-arrow\">\n",
       "    <path class=\"displacy-arc\" id=\"arrow-0-10\" stroke-width=\"2px\" d=\"M910,422.0 C910,182.0 1355.0,182.0 1355.0,422.0\" fill=\"none\" stroke=\"currentColor\"/>\n",
       "    <text dy=\"1.25em\" style=\"font-size: 0.8em; letter-spacing: 1px\">\n",
       "        <textPath xlink:href=\"#arrow-0-10\" class=\"displacy-label\" startOffset=\"50%\" fill=\"currentColor\" text-anchor=\"middle\">nmod</textPath>\n",
       "    </text>\n",
       "    <path class=\"displacy-arrowhead\" d=\"M1355.0,424.0 L1363.0,412.0 1347.0,412.0\" fill=\"currentColor\"/>\n",
       "</g>\n",
       "\n",
       "<g class=\"displacy-arrow\">\n",
       "    <path class=\"displacy-arc\" id=\"arrow-0-11\" stroke-width=\"2px\" d=\"M1510,422.0 C1510,362.0 1580.0,362.0 1580.0,422.0\" fill=\"none\" stroke=\"currentColor\"/>\n",
       "    <text dy=\"1.25em\" style=\"font-size: 0.8em; letter-spacing: 1px\">\n",
       "        <textPath xlink:href=\"#arrow-0-11\" class=\"displacy-label\" startOffset=\"50%\" fill=\"currentColor\" text-anchor=\"middle\">case</textPath>\n",
       "    </text>\n",
       "    <path class=\"displacy-arrowhead\" d=\"M1510,424.0 L1502,412.0 1518,412.0\" fill=\"currentColor\"/>\n",
       "</g>\n",
       "\n",
       "<g class=\"displacy-arrow\">\n",
       "    <path class=\"displacy-arc\" id=\"arrow-0-12\" stroke-width=\"2px\" d=\"M910,422.0 C910,122.0 1600.0,122.0 1600.0,422.0\" fill=\"none\" stroke=\"currentColor\"/>\n",
       "    <text dy=\"1.25em\" style=\"font-size: 0.8em; letter-spacing: 1px\">\n",
       "        <textPath xlink:href=\"#arrow-0-12\" class=\"displacy-label\" startOffset=\"50%\" fill=\"currentColor\" text-anchor=\"middle\">nmod</textPath>\n",
       "    </text>\n",
       "    <path class=\"displacy-arrowhead\" d=\"M1600.0,424.0 L1608.0,412.0 1592.0,412.0\" fill=\"currentColor\"/>\n",
       "</g>\n",
       "\n",
       "<g class=\"displacy-arrow\">\n",
       "    <path class=\"displacy-arc\" id=\"arrow-0-13\" stroke-width=\"2px\" d=\"M1750,422.0 C1750,362.0 1820.0,362.0 1820.0,422.0\" fill=\"none\" stroke=\"currentColor\"/>\n",
       "    <text dy=\"1.25em\" style=\"font-size: 0.8em; letter-spacing: 1px\">\n",
       "        <textPath xlink:href=\"#arrow-0-13\" class=\"displacy-label\" startOffset=\"50%\" fill=\"currentColor\" text-anchor=\"middle\">iobj</textPath>\n",
       "    </text>\n",
       "    <path class=\"displacy-arrowhead\" d=\"M1750,424.0 L1742,412.0 1758,412.0\" fill=\"currentColor\"/>\n",
       "</g>\n",
       "\n",
       "<g class=\"displacy-arrow\">\n",
       "    <path class=\"displacy-arc\" id=\"arrow-0-14\" stroke-width=\"2px\" d=\"M190,422.0 C190,2.0 1850.0,2.0 1850.0,422.0\" fill=\"none\" stroke=\"currentColor\"/>\n",
       "    <text dy=\"1.25em\" style=\"font-size: 0.8em; letter-spacing: 1px\">\n",
       "        <textPath xlink:href=\"#arrow-0-14\" class=\"displacy-label\" startOffset=\"50%\" fill=\"currentColor\" text-anchor=\"middle\">conj</textPath>\n",
       "    </text>\n",
       "    <path class=\"displacy-arrowhead\" d=\"M1850.0,424.0 L1858.0,412.0 1842.0,412.0\" fill=\"currentColor\"/>\n",
       "</g>\n",
       "\n",
       "<g class=\"displacy-arrow\">\n",
       "    <path class=\"displacy-arc\" id=\"arrow-0-15\" stroke-width=\"2px\" d=\"M1990,422.0 C1990,362.0 2060.0,362.0 2060.0,422.0\" fill=\"none\" stroke=\"currentColor\"/>\n",
       "    <text dy=\"1.25em\" style=\"font-size: 0.8em; letter-spacing: 1px\">\n",
       "        <textPath xlink:href=\"#arrow-0-15\" class=\"displacy-label\" startOffset=\"50%\" fill=\"currentColor\" text-anchor=\"middle\">det</textPath>\n",
       "    </text>\n",
       "    <path class=\"displacy-arrowhead\" d=\"M1990,424.0 L1982,412.0 1998,412.0\" fill=\"currentColor\"/>\n",
       "</g>\n",
       "\n",
       "<g class=\"displacy-arrow\">\n",
       "    <path class=\"displacy-arc\" id=\"arrow-0-16\" stroke-width=\"2px\" d=\"M1870,422.0 C1870,302.0 2065.0,302.0 2065.0,422.0\" fill=\"none\" stroke=\"currentColor\"/>\n",
       "    <text dy=\"1.25em\" style=\"font-size: 0.8em; letter-spacing: 1px\">\n",
       "        <textPath xlink:href=\"#arrow-0-16\" class=\"displacy-label\" startOffset=\"50%\" fill=\"currentColor\" text-anchor=\"middle\">obj</textPath>\n",
       "    </text>\n",
       "    <path class=\"displacy-arrowhead\" d=\"M2065.0,424.0 L2073.0,412.0 2057.0,412.0\" fill=\"currentColor\"/>\n",
       "</g>\n",
       "\n",
       "<g class=\"displacy-arrow\">\n",
       "    <path class=\"displacy-arc\" id=\"arrow-0-17\" stroke-width=\"2px\" d=\"M2230,422.0 C2230,302.0 2425.0,302.0 2425.0,422.0\" fill=\"none\" stroke=\"currentColor\"/>\n",
       "    <text dy=\"1.25em\" style=\"font-size: 0.8em; letter-spacing: 1px\">\n",
       "        <textPath xlink:href=\"#arrow-0-17\" class=\"displacy-label\" startOffset=\"50%\" fill=\"currentColor\" text-anchor=\"middle\">case</textPath>\n",
       "    </text>\n",
       "    <path class=\"displacy-arrowhead\" d=\"M2230,424.0 L2222,412.0 2238,412.0\" fill=\"currentColor\"/>\n",
       "</g>\n",
       "\n",
       "<g class=\"displacy-arrow\">\n",
       "    <path class=\"displacy-arc\" id=\"arrow-0-18\" stroke-width=\"2px\" d=\"M2350,422.0 C2350,362.0 2420.0,362.0 2420.0,422.0\" fill=\"none\" stroke=\"currentColor\"/>\n",
       "    <text dy=\"1.25em\" style=\"font-size: 0.8em; letter-spacing: 1px\">\n",
       "        <textPath xlink:href=\"#arrow-0-18\" class=\"displacy-label\" startOffset=\"50%\" fill=\"currentColor\" text-anchor=\"middle\">amod</textPath>\n",
       "    </text>\n",
       "    <path class=\"displacy-arrowhead\" d=\"M2350,424.0 L2342,412.0 2358,412.0\" fill=\"currentColor\"/>\n",
       "</g>\n",
       "\n",
       "<g class=\"displacy-arrow\">\n",
       "    <path class=\"displacy-arc\" id=\"arrow-0-19\" stroke-width=\"2px\" d=\"M2470,422.0 C2470,362.0 2540.0,362.0 2540.0,422.0\" fill=\"none\" stroke=\"currentColor\"/>\n",
       "    <text dy=\"1.25em\" style=\"font-size: 0.8em; letter-spacing: 1px\">\n",
       "        <textPath xlink:href=\"#arrow-0-19\" class=\"displacy-label\" startOffset=\"50%\" fill=\"currentColor\" text-anchor=\"middle\">obl</textPath>\n",
       "    </text>\n",
       "    <path class=\"displacy-arrowhead\" d=\"M2470,424.0 L2462,412.0 2478,412.0\" fill=\"currentColor\"/>\n",
       "</g>\n",
       "\n",
       "<g class=\"displacy-arrow\">\n",
       "    <path class=\"displacy-arc\" id=\"arrow-0-20\" stroke-width=\"2px\" d=\"M2590,422.0 C2590,362.0 2660.0,362.0 2660.0,422.0\" fill=\"none\" stroke=\"currentColor\"/>\n",
       "    <text dy=\"1.25em\" style=\"font-size: 0.8em; letter-spacing: 1px\">\n",
       "        <textPath xlink:href=\"#arrow-0-20\" class=\"displacy-label\" startOffset=\"50%\" fill=\"currentColor\" text-anchor=\"middle\">xcomp</textPath>\n",
       "    </text>\n",
       "    <path class=\"displacy-arrowhead\" d=\"M2660.0,424.0 L2668.0,412.0 2652.0,412.0\" fill=\"currentColor\"/>\n",
       "</g>\n",
       "\n",
       "<g class=\"displacy-arrow\">\n",
       "    <path class=\"displacy-arc\" id=\"arrow-0-21\" stroke-width=\"2px\" d=\"M2830,422.0 C2830,362.0 2900.0,362.0 2900.0,422.0\" fill=\"none\" stroke=\"currentColor\"/>\n",
       "    <text dy=\"1.25em\" style=\"font-size: 0.8em; letter-spacing: 1px\">\n",
       "        <textPath xlink:href=\"#arrow-0-21\" class=\"displacy-label\" startOffset=\"50%\" fill=\"currentColor\" text-anchor=\"middle\">case</textPath>\n",
       "    </text>\n",
       "    <path class=\"displacy-arrowhead\" d=\"M2830,424.0 L2822,412.0 2838,412.0\" fill=\"currentColor\"/>\n",
       "</g>\n",
       "\n",
       "<g class=\"displacy-arrow\">\n",
       "    <path class=\"displacy-arc\" id=\"arrow-0-22\" stroke-width=\"2px\" d=\"M2710,422.0 C2710,302.0 2905.0,302.0 2905.0,422.0\" fill=\"none\" stroke=\"currentColor\"/>\n",
       "    <text dy=\"1.25em\" style=\"font-size: 0.8em; letter-spacing: 1px\">\n",
       "        <textPath xlink:href=\"#arrow-0-22\" class=\"displacy-label\" startOffset=\"50%\" fill=\"currentColor\" text-anchor=\"middle\">obl</textPath>\n",
       "    </text>\n",
       "    <path class=\"displacy-arrowhead\" d=\"M2905.0,424.0 L2913.0,412.0 2897.0,412.0\" fill=\"currentColor\"/>\n",
       "</g>\n",
       "</svg>"
      ],
      "text/plain": [
       "<IPython.core.display.HTML object>"
      ]
     },
     "metadata": {},
     "output_type": "display_data"
    }
   ],
   "source": [
    "displacy.render(nlp_.doc, style='dep', jupyter=True, options={'distance': 120})"
   ]
  },
  {
   "cell_type": "code",
   "execution_count": 14,
   "metadata": {},
   "outputs": [
    {
     "name": "stdout",
     "output_type": "stream",
     "text": [
      "nsubj:  nominal subject\n",
      "MISC:  Miscellaneous entities, e.g. events, nationalities, products or works of art\n",
      "LOC:  Non-GPE locations, mountain ranges, bodies of water\n",
      "PROPN:  proper noun\n",
      "PRON:  pronoun\n",
      "DET:  determiner\n"
     ]
    }
   ],
   "source": [
    "print('nsubj: ', spacy.explain('nsubj'))\n",
    "print('MISC: ', spacy.explain('MISC'))\n",
    "print('LOC: ', spacy.explain('LOC'))\n",
    "print('PROPN: ', spacy.explain('PROPN'))\n",
    "print('PRON: ', spacy.explain('PRON'))\n",
    "print('DET: ', spacy.explain('DET'))"
   ]
  },
  {
   "cell_type": "markdown",
   "metadata": {},
   "source": [
    "<br>\n",
    "### Pre processamento"
   ]
  },
  {
   "cell_type": "code",
   "execution_count": 15,
   "metadata": {},
   "outputs": [
    {
     "data": {
      "text/plain": [
       "[Segunda-feira,\n",
       " fui,\n",
       " a,\n",
       " o,\n",
       " médico,\n",
       " e,\n",
       " o,\n",
       " Dr.,\n",
       " Arnaldo,\n",
       " Costa,\n",
       " da,\n",
       " Silva,\n",
       " da,\n",
       " JusBrasil,\n",
       " me,\n",
       " receitou,\n",
       " um,\n",
       " remédio,\n",
       " Na,\n",
       " próxima,\n",
       " semana,\n",
       " irei,\n",
       " voltar,\n",
       " a,\n",
       " Curitiba]"
      ]
     },
     "execution_count": 15,
     "metadata": {},
     "output_type": "execute_result"
    }
   ],
   "source": [
    "list(nlp_.words_preprocessing(stop_words_remove=False))"
   ]
  },
  {
   "cell_type": "code",
   "execution_count": 16,
   "metadata": {},
   "outputs": [
    {
     "data": {
      "text/plain": [
       "['Segunda',\n",
       " 'ser',\n",
       " 'o',\n",
       " 'o',\n",
       " 'médico',\n",
       " 'e',\n",
       " 'o',\n",
       " 'Dr.',\n",
       " 'Arnaldo',\n",
       " 'Costa',\n",
       " 'da',\n",
       " 'Silva',\n",
       " 'da',\n",
       " 'JusBrasil',\n",
       " 'me',\n",
       " 'receitar',\n",
       " 'um',\n",
       " 'remédio',\n",
       " 'Na',\n",
       " 'próximo',\n",
       " 'semana',\n",
       " 'irar',\n",
       " 'voltar',\n",
       " 'o',\n",
       " 'Curitiba']"
      ]
     },
     "execution_count": 16,
     "metadata": {},
     "output_type": "execute_result"
    }
   ],
   "source": [
    "# Bom lemmatizer\n",
    "\n",
    "list(nlp_.words_preprocessing(stop_words_remove=False, lemma=True))"
   ]
  }
 ],
 "metadata": {
  "kernelspec": {
   "display_name": "Python 3",
   "language": "python",
   "name": "python3"
  },
  "language_info": {
   "codemirror_mode": {
    "name": "ipython",
    "version": 3
   },
   "file_extension": ".py",
   "mimetype": "text/x-python",
   "name": "python",
   "nbconvert_exporter": "python",
   "pygments_lexer": "ipython3",
   "version": "3.6.7"
  }
 },
 "nbformat": 4,
 "nbformat_minor": 2
}
