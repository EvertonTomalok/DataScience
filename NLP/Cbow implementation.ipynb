{
 "cells": [
  {
   "cell_type": "code",
   "execution_count": 1,
   "metadata": {},
   "outputs": [
    {
     "name": "stderr",
     "output_type": "stream",
     "text": [
      "Using TensorFlow backend.\n"
     ]
    }
   ],
   "source": [
    "from keras.utils import np_utils\n",
    "from keras.preprocessing import sequence\n",
    "from nltk import word_tokenize"
   ]
  },
  {
   "cell_type": "code",
   "execution_count": 4,
   "metadata": {},
   "outputs": [],
   "source": [
    "class Cbow:\n",
    "    def __init__(self, text: str, context_window: int=1):\n",
    "        self._text = text\n",
    "        self._tokens = word_tokenize(text)\n",
    "        self._len_tokens = len(self._tokens)\n",
    "        self._context_window = context_window\n",
    "        self.id2word = {\n",
    "            _id: text \n",
    "            for _id, text in enumerate(set(self.tokens))\n",
    "        }\n",
    "        self.word2id = {v: k for k, v in self.id2word.items()}\n",
    "        \n",
    "    @property\n",
    "    def text(self):\n",
    "        return self._text\n",
    "    \n",
    "    @property\n",
    "    def len_tokens(self):\n",
    "        return self._len_tokens\n",
    "    \n",
    "    @property\n",
    "    def tokens(self):\n",
    "        return self._tokens\n",
    "    \n",
    "    @property\n",
    "    def context_window(self):\n",
    "        return self._context_window\n",
    "    \n",
    "    def get_context_words(self):\n",
    "        for index, word in enumerate(self.tokens):\n",
    "                        \n",
    "            start = index - self.context_window\n",
    "            end = index + self.context_window + 1\n",
    "            \n",
    "            if index - self.context_window < 0:\n",
    "                continue\n",
    "            elif index + self.context_window == self.len_tokens:\n",
    "                break\n",
    "                \n",
    "            word_list = [\n",
    "                self.tokens[i] for i in range(start, end)\n",
    "                if i != index\n",
    "            ]\n",
    "            \n",
    "            yield (self.tokens[index], [self.word2id[word] for word in word_list])\n",
    "\n",
    "    \n",
    "    def __repr__(self):\n",
    "        return str(self.tokens)"
   ]
  },
  {
   "cell_type": "code",
   "execution_count": 5,
   "metadata": {},
   "outputs": [
    {
     "data": {
      "text/plain": [
       "['Palmeiras', 'não', 'tem', 'mundial', '!', 'Aceita', 'que', 'dói', 'menos', '.', 'Aceita', 'que', 'dói', 'menos', '.']"
      ]
     },
     "execution_count": 5,
     "metadata": {},
     "output_type": "execute_result"
    }
   ],
   "source": [
    "cbow = Cbow(\"Palmeiras não tem mundial! Aceita que dói menos. Aceita que dói menos.\", context_window=2)\n",
    "cbow"
   ]
  },
  {
   "cell_type": "code",
   "execution_count": 6,
   "metadata": {},
   "outputs": [
    {
     "data": {
      "text/plain": [
       "{0: 'mundial',\n",
       " 1: 'tem',\n",
       " 2: 'menos',\n",
       " 3: 'Palmeiras',\n",
       " 4: 'que',\n",
       " 5: 'dói',\n",
       " 6: '!',\n",
       " 7: '.',\n",
       " 8: 'Aceita',\n",
       " 9: 'não'}"
      ]
     },
     "execution_count": 6,
     "metadata": {},
     "output_type": "execute_result"
    }
   ],
   "source": [
    "cbow.id2word"
   ]
  },
  {
   "cell_type": "code",
   "execution_count": 16,
   "metadata": {},
   "outputs": [
    {
     "name": "stdout",
     "output_type": "stream",
     "text": [
      "Context_IDs: '[3, 9, 0, 6]' -> Context: ['Palmeiras', 'não', 'mundial', '!'] -> Target: 'tem' \n",
      "Context_IDs: '[9, 1, 6, 8]' -> Context: ['não', 'tem', '!', 'Aceita'] -> Target: 'mundial' \n",
      "Context_IDs: '[1, 0, 8, 4]' -> Context: ['tem', 'mundial', 'Aceita', 'que'] -> Target: '!' \n",
      "Context_IDs: '[0, 6, 4, 5]' -> Context: ['mundial', '!', 'que', 'dói'] -> Target: 'Aceita' \n",
      "Context_IDs: '[6, 8, 5, 2]' -> Context: ['!', 'Aceita', 'dói', 'menos'] -> Target: 'que' \n",
      "Context_IDs: '[8, 4, 2, 7]' -> Context: ['Aceita', 'que', 'menos', '.'] -> Target: 'dói' \n",
      "Context_IDs: '[4, 5, 7, 8]' -> Context: ['que', 'dói', '.', 'Aceita'] -> Target: 'menos' \n",
      "Context_IDs: '[5, 2, 8, 4]' -> Context: ['dói', 'menos', 'Aceita', 'que'] -> Target: '.' \n",
      "Context_IDs: '[2, 7, 4, 5]' -> Context: ['menos', '.', 'que', 'dói'] -> Target: 'Aceita' \n",
      "Context_IDs: '[7, 8, 5, 2]' -> Context: ['.', 'Aceita', 'dói', 'menos'] -> Target: 'que' \n",
      "Context_IDs: '[8, 4, 2, 7]' -> Context: ['Aceita', 'que', 'menos', '.'] -> Target: 'dói' \n"
     ]
    }
   ],
   "source": [
    "for target, context in cbow.get_context_words():\n",
    "    print(\"Context_IDs: '{}' -> Context: {} -> Target: '{}' \".format(\n",
    "        [_id for _id in context], [cbow.id2word[_id] for _id in context], target) \n",
    "    )"
   ]
  },
  {
   "cell_type": "code",
   "execution_count": null,
   "metadata": {},
   "outputs": [],
   "source": [
    "texto_dom_casmurro = \"Publicado pela primeira vez em 1899, “Dom Casmurro” é uma das grandes obras de Machado de Assis e confirma o olhar certeiro e crítico que o autor estendia sobre toda a sociedade brasileira. Também a temática do ciúme, abordada com brilhantismo nesse livro, provoca polêmicas em torno do caráter de uma das principais personagens femininas da literatura brasileira: Capitu.\"\n",
    "\n",
    "cbow = Cbow(texto_dom_casmurro, context_window=1)\n",
    "for target, context in cbow.get_context_words():\n",
    "    print(\"Context_IDs: '{}' -> Context: {} -> Target: '{}' \".format(\n",
    "        [_id for _id in context], [cbow.id2word[_id] for _id in context], target) \n",
    "    )"
   ]
  }
 ],
 "metadata": {
  "kernelspec": {
   "display_name": "Python 3",
   "language": "python",
   "name": "python3"
  },
  "language_info": {
   "codemirror_mode": {
    "name": "ipython",
    "version": 3
   },
   "file_extension": ".py",
   "mimetype": "text/x-python",
   "name": "python",
   "nbconvert_exporter": "python",
   "pygments_lexer": "ipython3",
   "version": "3.6.5"
  }
 },
 "nbformat": 4,
 "nbformat_minor": 2
}
