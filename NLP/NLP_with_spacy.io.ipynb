{
 "cells": [
  {
   "cell_type": "markdown",
   "metadata": {},
   "source": [
    "## Criando Função que remove pontuação, usando punctuation do python3"
   ]
  },
  {
   "cell_type": "code",
   "execution_count": 1,
   "metadata": {},
   "outputs": [
    {
     "data": {
      "text/plain": [
       "['eu', 'amo', 'isso,', 'e', 'vc?']"
      ]
     },
     "execution_count": 1,
     "metadata": {},
     "output_type": "execute_result"
    }
   ],
   "source": [
    "from string import punctuation\n",
    "\n",
    "\n",
    "def remove_punctuation(string):\n",
    "    assert isinstance(string, list), 'Não foi passado uma lista de tokens, como o esperado!'\n",
    "    \n",
    "    string = [frase for frase in string if frase not in punctuation]\n",
    "    \n",
    "    return string\n",
    "\n",
    "\n",
    "text = 'eu amo isso, e vc?'\n",
    "\n",
    "list_text = text.split()\n",
    "\n",
    "remove_punctuation(list_text)"
   ]
  },
  {
   "cell_type": "markdown",
   "metadata": {},
   "source": [
    "    - Podemos visualizar, que a pontuação não foi removida, como o esperado. "
   ]
  },
  {
   "cell_type": "markdown",
   "metadata": {},
   "source": [
    "<br>\n",
    "<br>\n",
    "\n",
    "## Criando a mesma função usando o spacy.io\n",
    "    - Além da pontuação, podemos remover espaços, caso um .strip() não seja suficiente:"
   ]
  },
  {
   "cell_type": "code",
   "execution_count": 2,
   "metadata": {},
   "outputs": [
    {
     "name": "stderr",
     "output_type": "stream",
     "text": [
      "/usr/lib/python3/dist-packages/requests/__init__.py:80: RequestsDependencyWarning: urllib3 (1.23) or chardet (3.0.4) doesn't match a supported version!\n",
      "  RequestsDependencyWarning)\n"
     ]
    }
   ],
   "source": [
    "# Primeimramente devemos importar o modulo Spacy\n",
    "import spacy\n",
    "\n",
    "# Logo em seguida, fazemos o load do \"modelo pt\", disponivel no spacy,\n",
    "# e instanciamos um objeto, de nome nlp, para ser utilizado posteriormente\n",
    "\n",
    "nlp = spacy.load('pt_core_news_sm')\n"
   ]
  },
  {
   "cell_type": "code",
   "execution_count": 3,
   "metadata": {
    "scrolled": true
   },
   "outputs": [
    {
     "data": {
      "text/plain": [
       "['eu',\n",
       " 'me',\n",
       " 'chamo',\n",
       " 'everton',\n",
       " 'e',\n",
       " 'gostaria',\n",
       " 'de',\n",
       " 'conversar',\n",
       " 'caso',\n",
       " 'gostar',\n",
       " 'do',\n",
       " 'que',\n",
       " 'irei',\n",
       " 'lhe',\n",
       " 'falar',\n",
       " 'por',\n",
       " 'gentileza',\n",
       " 'e',\n",
       " 'retorne',\n",
       " 'é',\n",
       " 'de',\n",
       " 'extremo',\n",
       " 'valor',\n",
       " 'seu',\n",
       " 'feedback',\n",
       " 'entre',\n",
       " 'em',\n",
       " 'contato',\n",
       " 'comigo',\n",
       " 'para',\n",
       " 'saber',\n",
       " 'mais',\n",
       " 'informações',\n",
       " 'se',\n",
       " 'gostou',\n",
       " 'do',\n",
       " 'texto',\n",
       " 'clique',\n",
       " 'no',\n",
       " 'gostei',\n",
       " 'agora',\n",
       " 'espero',\n",
       " 'que',\n",
       " 'tenha',\n",
       " 'gostado']"
      ]
     },
     "execution_count": 3,
     "metadata": {},
     "output_type": "execute_result"
    }
   ],
   "source": [
    "\n",
    "def remover_punct_and_spaces(text):\n",
    "    \"\"\"\n",
    "    Uma função simples, para remover pontuações e espaços do texto passado, e retorna uma lista,\n",
    "    com estes tokens \"higienizados\".\n",
    "    \n",
    "    -ARGS:\n",
    "        text: (STRING)\n",
    "    \n",
    "    return tokens (LIST)\n",
    "    \"\"\"\n",
    "    \n",
    "    object_nlp = nlp(string)\n",
    "    \n",
    "    # \"nlp.lower_\" (como underline) retorna valor do token, em texto e caixa baixa\n",
    "    tokens = [token.lower_ for token in object_nlp if token.is_punct is False and token.is_space is False]\n",
    "    \n",
    "    return tokens\n",
    "\n",
    "\n",
    "string = ('Eu me chamo Everton, e gostaria de conversar.\\n Caso gostar do que irei lhe falar, por gentileza, e retorne. \\n'\n",
    "         'É de extremo valor, seu feedback. \\n'\n",
    "         'Entre em contato comigo para saber mais informações! Se gostou do texto, clique no gostei, agora. Espero que tenha gostado').replace('\\n', ' ')\n",
    "\n",
    "\n",
    "\n",
    "# Visualizando o efeito da função\n",
    "remover_punct_and_spaces(string)"
   ]
  },
  {
   "cell_type": "markdown",
   "metadata": {},
   "source": [
    "<br><br>\n",
    "## Função de lemmatização"
   ]
  },
  {
   "cell_type": "code",
   "execution_count": 15,
   "metadata": {
    "scrolled": true
   },
   "outputs": [
    {
     "data": {
      "text/plain": [
       "[('eu', 'PRON'),\n",
       " ('me', 'PRON'),\n",
       " ('chamar', 'VERB'),\n",
       " ('everton', 'NOUN'),\n",
       " ('e', 'PUNCT'),\n",
       " ('gostar', 'VERB'),\n",
       " ('de', 'ADP'),\n",
       " ('conversar', 'VERB'),\n",
       " ('casar', 'SCONJ'),\n",
       " ('gostar', 'VERB'),\n",
       " ('do', 'ADP'),\n",
       " ('que', 'SCONJ'),\n",
       " ('irar', 'AUX'),\n",
       " ('lhe', 'PRON'),\n",
       " ('falar', 'VERB'),\n",
       " ('por', 'ADP'),\n",
       " ('gentileza', 'NOUN'),\n",
       " ('e', 'CCONJ'),\n",
       " ('retornar', 'NOUN'),\n",
       " ('ser', 'VERB'),\n",
       " ('de', 'ADP'),\n",
       " ('extremar', 'ADJ'),\n",
       " ('valor', 'NOUN'),\n",
       " ('seu', 'DET'),\n",
       " ('feedback', 'NOUN'),\n",
       " ('entrar', 'ADP'),\n",
       " ('em', 'ADP'),\n",
       " ('contato', 'NOUN'),\n",
       " ('comigo', 'ADJ'),\n",
       " ('parir', 'ADP'),\n",
       " ('saber', 'VERB'),\n",
       " ('mais', 'DET'),\n",
       " ('informação', 'NOUN'),\n",
       " ('se', 'PRON'),\n",
       " ('gostar', 'VERB'),\n",
       " ('do', 'ADP'),\n",
       " ('texto', 'NOUN'),\n",
       " ('clicar', 'NOUN'),\n",
       " ('o', 'PRON'),\n",
       " ('gostar', 'VERB'),\n",
       " ('agora', 'ADV'),\n",
       " ('esperar', 'VERB'),\n",
       " ('que', 'SCONJ'),\n",
       " ('ter', 'AUX'),\n",
       " ('gostar', 'VERB')]"
      ]
     },
     "execution_count": 15,
     "metadata": {},
     "output_type": "execute_result"
    }
   ],
   "source": [
    "\n",
    "def lemma(text, remove_punct_and_spaces=True):\n",
    "    \"\"\"\n",
    "    Função, que irá receber um texto em string, e irá retornar uma lista de tokens lemmatizados.\n",
    "    \n",
    "    O segundo parametro, caso True, irá remover espaços e pontuações.\n",
    "    \n",
    "    - ARGS:\n",
    "        - text:(STRING)\n",
    "        - remove_punct_and_spaces: (BOOL)\n",
    "        \n",
    "    return Uma lista, com uma tupla, uma com o elemento lemmatizado, e outro seu Part-of-speech tagging(LIST)\n",
    "    \"\"\"\n",
    "    \n",
    "    if remover_punct_and_spaces:\n",
    "        list_tokens = remover_punct_and_spaces(text)\n",
    "        \n",
    "        # Transformando o array em string novamente, e então transformando o texto em objeto nlp\n",
    "        object_nlp = nlp(' '.join(list_tokens))\n",
    "        \n",
    "        # deletando a lista\n",
    "        del list_tokens\n",
    "        \n",
    "    else:\n",
    "        object_nlp = nlp(text)        \n",
    "        \n",
    "    tokens = [(token.lemma_, token.pos_) for token in object_nlp]\n",
    "    \n",
    "    return tokens\n",
    "\n",
    "# Utilizando a função\n",
    "lemma(string)"
   ]
  },
  {
   "cell_type": "markdown",
   "metadata": {},
   "source": [
    "<br>\n",
    "<br>\n",
    "\n",
    "## Criando namedtuple, e preprocessando o texto, através de uma nova função de preprocessamento"
   ]
  },
  {
   "cell_type": "code",
   "execution_count": 5,
   "metadata": {
    "scrolled": true
   },
   "outputs": [
    {
     "name": "stdout",
     "output_type": "stream",
     "text": [
      "eu me chamo everton, e gostaria de conversar.  caso gostar do que irei lhe falar, por gentileza, e retorne.  é de extremo valor, seu feedback.  entre em contato comigo para saber mais informações! se gostou do texto, clique no gostei, agora. espero que tenha gostado \n",
      "\n"
     ]
    }
   ],
   "source": [
    "from collections import namedtuple\n",
    "\n",
    "Token = namedtuple('Token', 'text tag_pos tag_dep head head_pos head_dep lemma')\n",
    "\n",
    "nlp = spacy.load('pt_core_news_sm')\n",
    "\n",
    "doc = nlp(string.lower())\n",
    "print(doc.text, '\\n')\n",
    "\n",
    "def preprocessing(token):\n",
    "    return Token(token.text, token.pos_, token.dep_, token.head.text, token.head.pos_, token.head.dep_,token.lemma_) \n",
    "\n",
    "sentenca = [preprocessing(token) for token in doc if token.is_punct is False and token.is_space is False]\n"
   ]
  },
  {
   "cell_type": "markdown",
   "metadata": {},
   "source": [
    "### Visualizando estrutura Token (namedtuple)"
   ]
  },
  {
   "cell_type": "code",
   "execution_count": 6,
   "metadata": {
    "scrolled": true
   },
   "outputs": [
    {
     "data": {
      "text/plain": [
       "[Token(text='Não', tag_pos='ADV', tag_dep='advmod', head='quero', head_pos='VERB', head_dep='ROOT', lemma='Não'),\n",
       " Token(text='quero', tag_pos='VERB', tag_dep='ROOT', head='quero', head_pos='VERB', head_dep='ROOT', lemma='querer'),\n",
       " Token(text='saber', tag_pos='VERB', tag_dep='xcomp', head='quero', head_pos='VERB', head_dep='ROOT', lemma='saber'),\n",
       " Token(text='sobre', tag_pos='ADP', tag_dep='case', head='isso', head_pos='PRON', head_dep='obl', lemma='sobrar'),\n",
       " Token(text='isso', tag_pos='PRON', tag_dep='obl', head='saber', head_pos='VERB', head_dep='xcomp', lemma='isso'),\n",
       " Token(text='.', tag_pos='PUNCT', tag_dep='punct', head='quero', head_pos='VERB', head_dep='ROOT', lemma='.'),\n",
       " Token(text='Você', tag_pos='PRON', tag_dep='nsubj', head='soube', head_pos='VERB', head_dep='ROOT', lemma='Você'),\n",
       " Token(text='soube', tag_pos='VERB', tag_dep='ROOT', head='soube', head_pos='VERB', head_dep='ROOT', lemma='saber'),\n",
       " Token(text='d', tag_pos='ADP', tag_dep='case', head='isso', head_pos='PRON', head_dep='obl', lemma='d'),\n",
       " Token(text='isso', tag_pos='PRON', tag_dep='obl', head='soube', head_pos='VERB', head_dep='ROOT', lemma='isso'),\n",
       " Token(text='?', tag_pos='PUNCT', tag_dep='punct', head='soube', head_pos='VERB', head_dep='ROOT', lemma='?'),\n",
       " Token(text='Está', tag_pos='VERB', tag_dep='cop', head='ligado', head_pos='VERB', head_dep='ROOT', lemma='Está'),\n",
       " Token(text='ligado', tag_pos='VERB', tag_dep='ROOT', head='ligado', head_pos='VERB', head_dep='ROOT', lemma='ligar'),\n",
       " Token(text='!', tag_pos='PUNCT', tag_dep='punct', head='ligado', head_pos='VERB', head_dep='ROOT', lemma='!')]"
      ]
     },
     "execution_count": 6,
     "metadata": {},
     "output_type": "execute_result"
    }
   ],
   "source": [
    "texto = nlp(\"Não quero saber sobre isso. Você soube disso? Está ligado!\")\n",
    "sent = [Token(token.text, token.pos_, token.dep_, token.head.text, token.head.pos_, token.head.dep_,token.lemma_) for token in texto if token.is_punct is False or token.pos_ != \"SPACE\"]\n",
    "sent "
   ]
  },
  {
   "cell_type": "markdown",
   "metadata": {},
   "source": [
    "### Extraindo children e antepassados do token atual"
   ]
  },
  {
   "cell_type": "code",
   "execution_count": 7,
   "metadata": {},
   "outputs": [
    {
     "data": {
      "text/plain": [
       "[('Não', 'ADV', 'advmod', 'quero', 'VERB', 'Não', [], [quero]),\n",
       " ('quero', 'VERB', 'ROOT', 'quero', 'VERB', 'querer', [Não, saber, .], []),\n",
       " ('saber', 'VERB', 'xcomp', 'quero', 'VERB', 'saber', [isso], [quero]),\n",
       " ('sobre', 'ADP', 'case', 'isso', 'PRON', 'sobrar', [], [isso, saber, quero]),\n",
       " ('isso', 'PRON', 'obl', 'saber', 'VERB', 'isso', [sobre], [saber, quero]),\n",
       " ('.', 'PUNCT', 'punct', 'quero', 'VERB', '.', [], [quero]),\n",
       " ('Você', 'PRON', 'nsubj', 'soube', 'VERB', 'Você', [], [soube]),\n",
       " ('soube', 'VERB', 'ROOT', 'soube', 'VERB', 'saber', [Você, isso, ?], []),\n",
       " ('d', 'ADP', 'case', 'isso', 'PRON', 'd', [], [isso, soube]),\n",
       " ('isso', 'PRON', 'obl', 'soube', 'VERB', 'isso', [d], [soube]),\n",
       " ('?', 'PUNCT', 'punct', 'soube', 'VERB', '?', [], [soube]),\n",
       " ('Está', 'VERB', 'cop', 'ligado', 'VERB', 'Está', [], [ligado]),\n",
       " ('ligado', 'VERB', 'ROOT', 'ligado', 'VERB', 'ligar', [Está, !], []),\n",
       " ('!', 'PUNCT', 'punct', 'ligado', 'VERB', '!', [], [ligado])]"
      ]
     },
     "execution_count": 7,
     "metadata": {},
     "output_type": "execute_result"
    }
   ],
   "source": [
    "sent_children = [(token.text, token.pos_, token.dep_, token.head.text, \n",
    "                  token.head.pos_, token.lemma_, list(token.children),\n",
    "                  list(token.ancestors)) \n",
    "                 for token in texto if token.is_punct is False or token.pos_ != \"SPACE\"]\n",
    "\n",
    "sent_children"
   ]
  },
  {
   "cell_type": "markdown",
   "metadata": {},
   "source": [
    "## Visualizando o resultado"
   ]
  },
  {
   "cell_type": "code",
   "execution_count": 8,
   "metadata": {
    "scrolled": true
   },
   "outputs": [
    {
     "name": "stdout",
     "output_type": "stream",
     "text": [
      "Qtde Frases:  45 \n",
      "\n",
      "\n",
      "[Token(text='eu', tag_pos='PRON', tag_dep='nsubj', head='chamo', head_pos='VERB', head_dep='ROOT', lemma='eu'),\n",
      " Token(text='me', tag_pos='PRON', tag_dep='obj', head='chamo', head_pos='VERB', head_dep='ROOT', lemma='me'),\n",
      " Token(text='chamo', tag_pos='VERB', tag_dep='ROOT', head='chamo', head_pos='VERB', head_dep='ROOT', lemma='chamar'),\n",
      " Token(text='everton', tag_pos='NOUN', tag_dep='obj', head='chamo', head_pos='VERB', head_dep='ROOT', lemma='everton'),\n",
      " Token(text='e', tag_pos='CCONJ', tag_dep='cc', head='gostaria', head_pos='VERB', head_dep='conj', lemma='e'),\n",
      " Token(text='gostaria', tag_pos='VERB', tag_dep='conj', head='chamo', head_pos='VERB', head_dep='ROOT', lemma='gostar'),\n",
      " Token(text='de', tag_pos='ADP', tag_dep='mark', head='conversar', head_pos='VERB', head_dep='xcomp', lemma='de'),\n",
      " Token(text='conversar', tag_pos='VERB', tag_dep='xcomp', head='gostaria', head_pos='VERB', head_dep='conj', lemma='conversar'),\n",
      " Token(text='caso', tag_pos='SCONJ', tag_dep='mark', head='gostar', head_pos='VERB', head_dep='ROOT', lemma='casar'),\n",
      " Token(text='gostar', tag_pos='VERB', tag_dep='ROOT', head='gostar', head_pos='VERB', head_dep='ROOT', lemma='gostar'),\n",
      " Token(text='do', tag_pos='ADP', tag_dep='mark', head='irei', head_pos='AUX', head_dep='ccomp', lemma='do'),\n",
      " Token(text='que', tag_pos='SCONJ', tag_dep='mark', head='irei', head_pos='AUX', head_dep='ccomp', lemma='que'),\n",
      " Token(text='irei', tag_pos='AUX', tag_dep='ccomp', head='gostar', head_pos='VERB', head_dep='ROOT', lemma='irar'),\n",
      " Token(text='lhe', tag_pos='PRON', tag_dep='iobj', head='falar', head_pos='VERB', head_dep='xcomp', lemma='lhe'),\n",
      " Token(text='falar', tag_pos='VERB', tag_dep='xcomp', head='irei', head_pos='AUX', head_dep='ccomp', lemma='falar'),\n",
      " Token(text='por', tag_pos='ADP', tag_dep='case', head='gentileza', head_pos='NOUN', head_dep='obl', lemma='por'),\n",
      " Token(text='gentileza', tag_pos='NOUN', tag_dep='obl', head='falar', head_pos='VERB', head_dep='xcomp', lemma='gentileza'),\n",
      " Token(text='e', tag_pos='CCONJ', tag_dep='cc', head='retorne', head_pos='NOUN', head_dep='conj', lemma='e'),\n",
      " Token(text='retorne', tag_pos='NOUN', tag_dep='conj', head='irei', head_pos='AUX', head_dep='ccomp', lemma='retornar'),\n",
      " Token(text='é', tag_pos='VERB', tag_dep='cop', head='valor', head_pos='NOUN', head_dep='nmod', lemma='ser'),\n",
      " Token(text='de', tag_pos='ADP', tag_dep='case', head='valor', head_pos='NOUN', head_dep='nmod', lemma='de'),\n",
      " Token(text='extremo', tag_pos='ADJ', tag_dep='amod', head='valor', head_pos='NOUN', head_dep='nmod', lemma='extremar'),\n",
      " Token(text='valor', tag_pos='NOUN', tag_dep='nmod', head='feedback', head_pos='NOUN', head_dep='ROOT', lemma='valor'),\n",
      " Token(text='seu', tag_pos='DET', tag_dep='det', head='feedback', head_pos='NOUN', head_dep='ROOT', lemma='seu'),\n",
      " Token(text='feedback', tag_pos='NOUN', tag_dep='ROOT', head='feedback', head_pos='NOUN', head_dep='ROOT', lemma='feedback'),\n",
      " Token(text='entre', tag_pos='ADP', tag_dep='case', head='contato', head_pos='NOUN', head_dep='ROOT', lemma='entrar'),\n",
      " Token(text='em', tag_pos='ADP', tag_dep='case', head='contato', head_pos='NOUN', head_dep='ROOT', lemma='em'),\n",
      " Token(text='contato', tag_pos='NOUN', tag_dep='ROOT', head='contato', head_pos='NOUN', head_dep='ROOT', lemma='contato'),\n",
      " Token(text='comigo', tag_pos='ADJ', tag_dep='amod', head='contato', head_pos='NOUN', head_dep='ROOT', lemma='comigo'),\n",
      " Token(text='para', tag_pos='ADP', tag_dep='mark', head='saber', head_pos='VERB', head_dep='advcl', lemma='parir'),\n",
      " Token(text='saber', tag_pos='VERB', tag_dep='advcl', head='contato', head_pos='NOUN', head_dep='ROOT', lemma='saber'),\n",
      " Token(text='mais', tag_pos='DET', tag_dep='det', head='informações', head_pos='NOUN', head_dep='obj', lemma='mais'),\n",
      " Token(text='informações', tag_pos='NOUN', tag_dep='obj', head='saber', head_pos='VERB', head_dep='advcl', lemma='informação'),\n",
      " Token(text='se', tag_pos='PRON', tag_dep='nsubj', head='gostou', head_pos='VERB', head_dep='advcl', lemma='se'),\n",
      " Token(text='gostou', tag_pos='VERB', tag_dep='advcl', head='gostei', head_pos='VERB', head_dep='ROOT', lemma='gostar'),\n",
      " Token(text='do', tag_pos='ADP', tag_dep='case', head='texto', head_pos='NOUN', head_dep='obl', lemma='do'),\n",
      " Token(text='texto', tag_pos='NOUN', tag_dep='obl', head='gostou', head_pos='VERB', head_dep='advcl', lemma='texto'),\n",
      " Token(text='clique', tag_pos='NOUN', tag_dep='nsubj', head='gostei', head_pos='VERB', head_dep='ROOT', lemma='clicar'),\n",
      " Token(text='no', tag_pos='PRON', tag_dep='obj', head='gostei', head_pos='VERB', head_dep='ROOT', lemma='o'),\n",
      " Token(text='gostei', tag_pos='VERB', tag_dep='ROOT', head='gostei', head_pos='VERB', head_dep='ROOT', lemma='gostar'),\n",
      " Token(text='agora', tag_pos='ADV', tag_dep='advmod', head='gostei', head_pos='VERB', head_dep='ROOT', lemma='agora'),\n",
      " Token(text='espero', tag_pos='VERB', tag_dep='ROOT', head='espero', head_pos='VERB', head_dep='ROOT', lemma='esperar'),\n",
      " Token(text='que', tag_pos='SCONJ', tag_dep='mark', head='gostado', head_pos='VERB', head_dep='ccomp', lemma='que'),\n",
      " Token(text='tenha', tag_pos='AUX', tag_dep='aux', head='gostado', head_pos='VERB', head_dep='ccomp', lemma='ter'),\n",
      " Token(text='gostado', tag_pos='VERB', tag_dep='ccomp', head='espero', head_pos='VERB', head_dep='ROOT', lemma='gostar')]\n"
     ]
    }
   ],
   "source": [
    "from pprint import pprint\n",
    "print('Qtde Frases: ', len(sentenca), '\\n\\n')\n",
    "pprint(sentenca)"
   ]
  },
  {
   "cell_type": "markdown",
   "metadata": {},
   "source": [
    "<br>\n",
    "\n",
    "## Explorando funcionalidades do Spacy.io"
   ]
  },
  {
   "cell_type": "code",
   "execution_count": 9,
   "metadata": {
    "scrolled": true
   },
   "outputs": [
    {
     "name": "stdout",
     "output_type": "stream",
     "text": [
      "eu/PERS|M/F|1S|NOM|@SUBJ> \t<--nsubj-- \tchamo/<mv>|V|PR|1S|IND|@FS-STA - eu\n",
      "me/<refl>|PERS|F|1S|ACC|@ACC> \t<--obj-- \tchamo/<mv>|V|PR|1S|IND|@FS-STA - me\n",
      "chamo/<mv>|V|PR|1S|IND|@FS-STA \t<--ROOT-- \tchamo/<mv>|V|PR|1S|IND|@FS-STA - chamar\n",
      "everton/<first-cjt>|<np-idf>|N|M|S|@<ACC \t<--obj-- \tchamo/<mv>|V|PR|1S|IND|@FS-STA - everton\n",
      "e/<co-fcl>|<co-fmc>|<co-vfin>|KC|@CO \t<--cc-- \tgostaria/<mv>|V|COND|1S|@FS-STA - e\n",
      "gostaria/<mv>|V|COND|1S|@FS-STA \t<--conj-- \tchamo/<mv>|V|PR|1S|IND|@FS-STA - gostar\n",
      "de/PRP|@<PIV \t<--mark-- \tconversar/<mv>|V|INF|@ICL-P< - de\n",
      "conversar/<mv>|V|INF|@ICL-P< \t<--xcomp-- \tgostaria/<mv>|V|COND|1S|@FS-STA - conversar\n",
      " / \t<---- \t./PU|@PU -  \n",
      "caso/KS|@SUB \t<--mark-- \tgostar/<mv>|V|INF|@ICL-<ACC - casar\n",
      "gostar/<mv>|V|INF|@ICL-<ACC \t<--ROOT-- \tgostar/<mv>|V|INF|@ICL-<ACC - gostar\n",
      "do/PRP|@SUB \t<--mark-- \tirei/<aux>|V|PS|3S|IND|@FS-<ADVL - do\n",
      "que/KS|@SUB \t<--mark-- \tirei/<aux>|V|PS|3S|IND|@FS-<ADVL - que\n",
      "irei/<aux>|V|PS|3S|IND|@FS-<ADVL \t<--ccomp-- \tgostar/<mv>|V|INF|@ICL-<ACC - irar\n",
      "lhe/PERS|M|3S|DAT|@DAT> \t<--iobj-- \tfalar/<mv>|V|INF|@ICL-<ACC - lhe\n",
      "falar/<mv>|V|INF|@ICL-<ACC \t<--xcomp-- \tirei/<aux>|V|PS|3S|IND|@FS-<ADVL - falar\n",
      "por/PRP|@<ADVL \t<--case-- \tgentileza/<np-idf>|N|F|S|@P< - por\n",
      "gentileza/<np-idf>|N|F|S|@P< \t<--obl-- \tfalar/<mv>|V|INF|@ICL-<ACC - gentileza\n",
      "e/<co-acc>|KC|@CO \t<--cc-- \tretorne/<cjt>|<np-idf>|N|F|S|@<ACC - e\n",
      "retorne/<cjt>|<np-idf>|N|F|S|@<ACC \t<--conj-- \tirei/<aux>|V|PS|3S|IND|@FS-<ADVL - retornar\n",
      " / \t<---- \t./PU|@PU -  \n",
      "é/<mv>|V|PR|3S|IND|@FS-STA \t<--cop-- \tvalor/<np-idf>|N|M|S|@P< - ser\n",
      "de/PRP|@<SC \t<--case-- \tvalor/<np-idf>|N|M|S|@P< - de\n",
      "extremo/ADJ|M|S|@>N \t<--amod-- \tvalor/<np-idf>|N|M|S|@P< - extremar\n",
      "valor/<np-idf>|N|M|S|@P< \t<--nmod-- \tfeedback/<np-def>|N|M|S|@SUBJ> - valor\n",
      "seu/<poss>|DET|M|S|@>N \t<--det-- \tfeedback/<np-def>|N|M|S|@SUBJ> - seu\n",
      "feedback/<np-def>|N|M|S|@SUBJ> \t<--ROOT-- \tfeedback/<np-def>|N|M|S|@SUBJ> - feedback\n",
      " / \t<---- \t./PU|@PU -  \n",
      "entre/PRP|@<ADVL \t<--case-- \tcontato/<np-idf>|N|M|S|@P< - entrar\n",
      "em/PRP|@<ADVL \t<--case-- \tcontato/<np-idf>|N|M|S|@P< - em\n",
      "contato/<np-idf>|N|M|S|@P< \t<--ROOT-- \tcontato/<np-idf>|N|M|S|@P< - contato\n",
      "comigo/ADJ|M|S|@N< \t<--amod-- \tcontato/<np-idf>|N|M|S|@P< - comigo\n",
      "para/PRP|@N< \t<--mark-- \tsaber/<mv>|V|INF|@ICL-P< - parir\n",
      "saber/<mv>|V|INF|@ICL-P< \t<--advcl-- \tcontato/<np-idf>|N|M|S|@P< - saber\n",
      "mais/<quant>|<KOMP>|<COMP>|DET|F|P|@>N \t<--det-- \tinformações/<np-idf>|N|F|P|@<ACC - mais\n",
      "informações/<np-idf>|N|F|P|@<ACC \t<--obj-- \tsaber/<mv>|V|INF|@ICL-P< - informação\n",
      "se/PERS|M/F|3S/P|ACC|@SUBJ> \t<--nsubj-- \tgostou/<mv>|V|PS|3S|IND|@FS-STA - se\n",
      "gostou/<mv>|V|PS|3S|IND|@FS-STA \t<--advcl-- \tgostei/<mv>|V|PS|1S|IND|@FS-STA - gostar\n",
      "do/PRP|@<ADVL \t<--case-- \ttexto/<np-idf>|N|M|S|@<ACC - do\n",
      "texto/<np-idf>|N|M|S|@<ACC \t<--obl-- \tgostou/<mv>|V|PS|3S|IND|@FS-STA - texto\n",
      "clique/<cjt>|<np-idf>|N|M|S|@P< \t<--nsubj-- \tgostei/<mv>|V|PS|1S|IND|@FS-STA - clicar\n",
      "no/PERS|M|3S|ACC|@<ACC \t<--obj-- \tgostei/<mv>|V|PS|1S|IND|@FS-STA - o\n",
      "gostei/<mv>|V|PS|1S|IND|@FS-STA \t<--ROOT-- \tgostei/<mv>|V|PS|1S|IND|@FS-STA - gostar\n",
      "agora/<kc>|ADV|@<ADVL \t<--advmod-- \tgostei/<mv>|V|PS|1S|IND|@FS-STA - agora\n",
      "espero/<mv>|V|PR|1S|IND|@FS-STA \t<--ROOT-- \tespero/<mv>|V|PR|1S|IND|@FS-STA - esperar\n",
      "que/KS|@SUB \t<--mark-- \tgostado/<mv>|<pc-subj>|V|PCP|@ICL-AUX< - que\n",
      "tenha/<aux>|V|PR|3S|SUBJ|@FS-<SUBJ \t<--aux-- \tgostado/<mv>|<pc-subj>|V|PCP|@ICL-AUX< - ter\n",
      "gostado/<mv>|<pc-subj>|V|PCP|@ICL-AUX< \t<--ccomp-- \tespero/<mv>|V|PR|1S|IND|@FS-STA - gostar\n"
     ]
    }
   ],
   "source": [
    "for token in doc:\n",
    "    if not token.is_punct:\n",
    "        print(\"{0}/{1} \\t<--{2}-- \\t{3}/{4} - {5}\".format(\n",
    "            token.text, token.tag_, token.dep_, token.head.text, token.head.tag_, token.lemma_))"
   ]
  },
  {
   "cell_type": "code",
   "execution_count": 10,
   "metadata": {
    "scrolled": true
   },
   "outputs": [
    {
     "name": "stdout",
     "output_type": "stream",
     "text": [
      "eu | PRON | nsubj  => chamo | ROOT - Lemma: eu\n",
      "me | PRON | obj  => chamo | ROOT - Lemma: me\n",
      "chamo | VERB | ROOT  => chamo | ROOT - Lemma: chamar\n",
      "everton | NOUN | obj  => chamo | ROOT - Lemma: everton\n",
      "e | CCONJ | cc  => gostaria | conj - Lemma: e\n",
      "gostaria | VERB | conj  => chamo | ROOT - Lemma: gostar\n",
      "de | ADP | mark  => conversar | xcomp - Lemma: de\n",
      "conversar | VERB | xcomp  => gostaria | conj - Lemma: conversar\n",
      "  | SPACE |   => . | punct - Lemma:  \n",
      "caso | SCONJ | mark  => gostar | ROOT - Lemma: casar\n",
      "gostar | VERB | ROOT  => gostar | ROOT - Lemma: gostar\n",
      "do | ADP | mark  => irei | ccomp - Lemma: do\n",
      "que | SCONJ | mark  => irei | ccomp - Lemma: que\n",
      "irei | AUX | ccomp  => gostar | ROOT - Lemma: irar\n",
      "lhe | PRON | iobj  => falar | xcomp - Lemma: lhe\n",
      "falar | VERB | xcomp  => irei | ccomp - Lemma: falar\n",
      "por | ADP | case  => gentileza | obl - Lemma: por\n",
      "gentileza | NOUN | obl  => falar | xcomp - Lemma: gentileza\n",
      "e | CCONJ | cc  => retorne | conj - Lemma: e\n",
      "retorne | NOUN | conj  => irei | ccomp - Lemma: retornar\n",
      "  | SPACE |   => . | punct - Lemma:  \n",
      "é | VERB | cop  => valor | nmod - Lemma: ser\n",
      "de | ADP | case  => valor | nmod - Lemma: de\n",
      "extremo | ADJ | amod  => valor | nmod - Lemma: extremar\n",
      "valor | NOUN | nmod  => feedback | ROOT - Lemma: valor\n",
      "seu | DET | det  => feedback | ROOT - Lemma: seu\n",
      "feedback | NOUN | ROOT  => feedback | ROOT - Lemma: feedback\n",
      "  | SPACE |   => . | punct - Lemma:  \n",
      "entre | ADP | case  => contato | ROOT - Lemma: entrar\n",
      "em | ADP | case  => contato | ROOT - Lemma: em\n",
      "contato | NOUN | ROOT  => contato | ROOT - Lemma: contato\n",
      "comigo | ADJ | amod  => contato | ROOT - Lemma: comigo\n",
      "para | ADP | mark  => saber | advcl - Lemma: parir\n",
      "saber | VERB | advcl  => contato | ROOT - Lemma: saber\n",
      "mais | DET | det  => informações | obj - Lemma: mais\n",
      "informações | NOUN | obj  => saber | advcl - Lemma: informação\n",
      "se | PRON | nsubj  => gostou | advcl - Lemma: se\n",
      "gostou | VERB | advcl  => gostei | ROOT - Lemma: gostar\n",
      "do | ADP | case  => texto | obl - Lemma: do\n",
      "texto | NOUN | obl  => gostou | advcl - Lemma: texto\n",
      "clique | NOUN | nsubj  => gostei | ROOT - Lemma: clicar\n",
      "no | PRON | obj  => gostei | ROOT - Lemma: o\n",
      "gostei | VERB | ROOT  => gostei | ROOT - Lemma: gostar\n",
      "agora | ADV | advmod  => gostei | ROOT - Lemma: agora\n",
      "espero | VERB | ROOT  => espero | ROOT - Lemma: esperar\n",
      "que | SCONJ | mark  => gostado | ccomp - Lemma: que\n",
      "tenha | AUX | aux  => gostado | ccomp - Lemma: ter\n",
      "gostado | VERB | ccomp  => espero | ROOT - Lemma: gostar\n"
     ]
    }
   ],
   "source": [
    "for token in doc:\n",
    "    if not token.is_punct:\n",
    "        print('{} | {} | {}  => {} | {} - Lemma: {}'.format(token.text, token.pos_, token.dep_, token.head.text, token.head.dep_, token.lemma_))"
   ]
  },
  {
   "cell_type": "markdown",
   "metadata": {},
   "source": [
    "<br><br>\n",
    "## Plotando nuvem de palavras"
   ]
  },
  {
   "cell_type": "code",
   "execution_count": 11,
   "metadata": {
    "scrolled": true
   },
   "outputs": [
    {
     "data": {
      "text/plain": [
       "(-0.5, 399.5, 199.5, -0.5)"
      ]
     },
     "execution_count": 11,
     "metadata": {},
     "output_type": "execute_result"
    },
    {
     "data": {
      "image/png": "[encoded data removed]",
      "text/plain": [
       "<Figure size 1152x648 with 1 Axes>"
      ]
     },
     "metadata": {},
     "output_type": "display_data"
    }
   ],
   "source": [
    "from wordcloud import WordCloud\n",
    "import matplotlib.pyplot as plt\n",
    "%matplotlib inline \n",
    "\n",
    "frases = ' '.join([token.lemma_ for token in doc if (token.is_punct is False and token.is_stop is False)])\n",
    "\n",
    "wordcloud = WordCloud().generate(frases)\n",
    "plt.figure(figsize=(16,9))\n",
    "plt.imshow(wordcloud)\n",
    "plt.axis(\"off\")"
   ]
  },
  {
   "cell_type": "code",
   "execution_count": 12,
   "metadata": {
    "scrolled": true
   },
   "outputs": [
    {
     "name": "stdout",
     "output_type": "stream",
     "text": [
      "eu    -     PRON  /  nsubj   => is_stop_word:  True\n",
      "acabei    -     AUX  /  aux   => is_stop_word:  False\n",
      "de    -     ADP  /  obl   => is_stop_word:  True\n",
      "comprar    -     VERB  /  ROOT   => is_stop_word:  False\n",
      "esta    -     DET  /  det   => is_stop_word:  True\n",
      "televisão    -     NOUN  /  obj   => is_stop_word:  False\n",
      "nova    -     ADJ  /  amod   => is_stop_word:  True\n",
      "por    -     ADP  /  case   => is_stop_word:  True\n",
      "que    -     PRON  /  nmod   => is_stop_word:  True\n",
      "ela    -     PRON  /  nsubj   => is_stop_word:  True\n",
      "estava    -     VERB  /  cop   => is_stop_word:  True\n",
      "com    -     ADP  /  case   => is_stop_word:  True\n",
      "75    -     NUM  /  nummod   => is_stop_word:  False\n",
      "de    -     ADP  /  case   => is_stop_word:  True\n",
      "desconto    -     NOUN  /  nmod   => is_stop_word:  False\n",
      "mas    -     CCONJ  /  cc   => is_stop_word:  True\n",
      "só    -     ADV  /  advmod   => is_stop_word:  False\n",
      "vale    -     VERB  /  ROOT   => is_stop_word:  False\n",
      "este    -     DET  /  det   => is_stop_word:  True\n",
      "desconto    -     NOUN  /  obj   => is_stop_word:  False\n",
      "até    -     ADP  /  case   => is_stop_word:  True\n",
      "as    -     DET  /  det   => is_stop_word:  True\n",
      "nove    -     NUM  /  nummod   => is_stop_word:  True\n",
      "horas    -     NOUN  /  obl   => is_stop_word:  True\n",
      "da    -     ADP  /  compound   => is_stop_word:  True\n",
      "manhã    -     NOUN  /  compound   => is_stop_word:  False\n",
      "entendeu    -     VERB  /  ROOT   => is_stop_word:  False\n"
     ]
    }
   ],
   "source": [
    "doc2 = nlp(\"Eu acabei de comprar esta televisão nova, por que ela estava com 75% de desconto. Mas só vale este desconto até as nove horas da manhã. Entendeu?\".lower())\n",
    "for ent in doc2:\n",
    "    if ent.is_punct is False:\n",
    "        print(ent.text, '   -    ', ent.pos_, ' / ', ent.dep_, '  => is_stop_word: ', ent.is_stop)"
   ]
  },
  {
   "cell_type": "code",
   "execution_count": 13,
   "metadata": {
    "scrolled": true
   },
   "outputs": [
    {
     "data": {
      "text/plain": [
       "(-0.5, 399.5, 199.5, -0.5)"
      ]
     },
     "execution_count": 13,
     "metadata": {},
     "output_type": "execute_result"
    },
    {
     "data": {
      "image/png": "[encoded data removed]",
      "text/plain": [
       "<Figure size 1152x648 with 1 Axes>"
      ]
     },
     "metadata": {},
     "output_type": "display_data"
    }
   ],
   "source": [
    "frases2 = ' '.join([token.lemma_ for token in doc2 if (token.is_punct is False and token.is_stop is False)])\n",
    "\n",
    "wordcloud2 = WordCloud().generate(frases2)\n",
    "plt.figure(figsize=(16,9))\n",
    "plt.imshow(wordcloud2)\n",
    "plt.axis(\"off\")"
   ]
  },
  {
   "cell_type": "markdown",
   "metadata": {},
   "source": [
    "<br><br>\n",
    "## Definindo elementos linguisticos que geram subjetividade ou objetividade"
   ]
  },
  {
   "cell_type": "code",
   "execution_count": 14,
   "metadata": {},
   "outputs": [
    {
     "name": "stdout",
     "output_type": "stream",
     "text": [
      "Subjetivo:  {'csubjpass', 'expl', 'nsubj', 'csubj', 'nsubjpass', 'agent'}\n",
      "Objetivo:  {'dative', 'dobj', 'attr', 'oprd'}\n"
     ]
    }
   ],
   "source": [
    "# Por motivos de baixo nível técnico, que não irei entrar em detalhes agora, \n",
    "# utilizei \"set\" para armazenar os valores constantes\n",
    "\n",
    "SUBJECTS = set([\"nsubj\", \"nsubjpass\", \"csubj\", \"csubjpass\", \"agent\", \"expl\"])\n",
    "OBJECTS = set([\"dobj\", \"dative\", \"attr\", \"oprd\"])\n",
    "\n",
    "print('Subjetivo: ', SUBJECTS)\n",
    "print('Objetivo: ', OBJECTS)"
   ]
  }
 ],
 "metadata": {
  "kernelspec": {
   "display_name": "Python 3",
   "language": "python",
   "name": "python3"
  },
  "language_info": {
   "codemirror_mode": {
    "name": "ipython",
    "version": 3
   },
   "file_extension": ".py",
   "mimetype": "text/x-python",
   "name": "python",
   "nbconvert_exporter": "python",
   "pygments_lexer": "ipython3",
   "version": "3.6.5"
  }
 },
 "nbformat": 4,
 "nbformat_minor": 2
}
