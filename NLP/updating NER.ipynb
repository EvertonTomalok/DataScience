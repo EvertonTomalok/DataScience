{
 "cells": [
  {
   "cell_type": "code",
   "execution_count": 1,
   "metadata": {},
   "outputs": [],
   "source": [
    "import spacy\n",
    "import re\n",
    "from random import shuffle\n",
    "from spacy.util import minibatch, compounding\n",
    "from tqdm import tqdm\n",
    "\n",
    "# optimizer = nlp.begin_training(device=0) # Para usar a GPU device=0\n",
    "\n",
    "# https://github.com/explosion/thinc#quickstart  # instalar think para rodar na gpu\n",
    "\n",
    "# https://spacy.io/api/cli"
   ]
  },
  {
   "cell_type": "code",
   "execution_count": 2,
   "metadata": {},
   "outputs": [],
   "source": [
    "class Trainer:\n",
    "    \n",
    "    def __init__(self):\n",
    "        \n",
    "        self.TD = [\n",
    "        \n",
    "            (\"O dr. Everton Tomalok da JustiÇa foi convidado a vir assinar a papelada.\", {\n",
    "                'entities': [(25, 34, 'ORG'), (6, 21, 'PER')]\n",
    "            }),\n",
    "\n",
    "            (\"O dr. Arnaldo da Silva da JustiÇa, é um bom advogado\", {\n",
    "                'entities': [(26, 35, 'ORG')]\n",
    "            }),\n",
    "\n",
    "            (\"É um lugar?\", {\n",
    "                'entities': []\n",
    "            }),\n",
    "\n",
    "            (\"JustiÇa é uma empresa.\", {\n",
    "                'entities': [(0, 9, 'ORG')]\n",
    "            }),\n",
    "\n",
    "            (\"JustiÇa é legal.\", {\n",
    "                'entities': [(0, 9, 'ORG')]\n",
    "            }),\n",
    "\n",
    "            ('O dr. Júlio da Silva da JustiÇa Ltda. é legal.', {\n",
    "                'entities': [(24, 37, 'ORG'), (6, 20, 'PER')]\n",
    "            }),\n",
    "\n",
    "            ('O dr. Lucas Bulhões Santos trabalha na OAB', {\n",
    "                'entities': [(2, 15, 'PER'), (28, 34, 'ORG')]\n",
    "            }),\n",
    "\n",
    "            ('O dr. Lucas da Empreiteira.', {\n",
    "                'entities': [(6, 11, 'PER'), (15, 26, 'ORG')]\n",
    "            }),\n",
    "\n",
    "            ('O dr. Fabiano do Federzoni.', {\n",
    "                'entities': [(6, 11, 'PER'), (15, 24, 'ORG')]\n",
    "            })\n",
    "            \n",
    "        ]\n",
    "        \n",
    "        self.nlp = spacy.load('pt_core_news_sm')\n",
    "        self.ner = self.nlp.get_pipe('ner')\n",
    "\n",
    "\n",
    "    def add_label(self, new_label):\n",
    "                \n",
    "        self.ner.add_label(new_label)\n",
    "        \n",
    "        \n",
    "    def tag_prhase(self, string, parser):\n",
    "        \n",
    "        finder = re.finditer(parser, string)\n",
    "\n",
    "        try:\n",
    "            \n",
    "            prox = next(finder)\n",
    "            del finder\n",
    "            \n",
    "            init_char = prox.start()\n",
    "            end_char = prox.end()\n",
    "            \n",
    "            return init_char, end_char\n",
    "            \n",
    "        except StopIteration:\n",
    "            \n",
    "            return None, None\n",
    "        \n",
    "    \n",
    "    def update_train_data(self, tuple_to_add):\n",
    "        \n",
    "        assert isinstance(tuple_to_add, tuple), \"\"\"\n",
    "        Formato ACEITO: \n",
    "            ('Eu irei dia 10/12/2018.', {\n",
    "            'entities': [(12, 22, 'DATE')]\n",
    "            })\n",
    "        \"\"\"\n",
    "        \n",
    "        assert isinstance(tuple_to_add[0], str), \"\"\"\n",
    "        Formato ACEITO: \n",
    "            ('Eu irei dia 10/12/2018.', {\n",
    "            'entities': [(12, 22, 'DATE')]\n",
    "            })\n",
    "        \"\"\"\n",
    "        \n",
    "        assert isinstance(tuple_to_add[1], dict), \"\"\"\n",
    "        Formato ACEITO: \n",
    "            ('Eu irei dia 10/12/2018.', {\n",
    "            'entities': [(12, 22, 'DATE')]\n",
    "            })\n",
    "        \"\"\"\n",
    "        \n",
    "        assert 'entities' in tuple_to_add[1], \"\"\"\n",
    "        Formato ACEITO: \n",
    "            ('Eu irei dia 10/12/2018.', {\n",
    "            'entities': [(12, 22, 'DATE')]\n",
    "            })\n",
    "        \"\"\"\n",
    "        \n",
    "        self.TD.append(tuple_to_add)\n",
    "        \n",
    "    \n",
    "    def train(self, epochs=100):\n",
    "        \n",
    "        other_pipes = [pipe for pipe in self.nlp.pipe_names if pipe != 'ner']\n",
    "        \n",
    "        optimizer = self.nlp.entity.create_optimizer() \n",
    "\n",
    "        with tqdm(initial=0, total=epochs, \n",
    "                  bar_format='{percentage:3.0f}%|{bar}|{n_fmt}/{total_fmt} > Time: {elapsed} <> {desc}') as pbar:\n",
    "\n",
    "            with self.nlp.disable_pipes(*other_pipes):  # only train NER\n",
    "                \n",
    "                for _ in range(epochs):\n",
    "\n",
    "                    shuffle(self.TD)\n",
    "                    losses = {}\n",
    "\n",
    "                    batches = minibatch(TRAIN_DATA, size=compounding(4., 32., 1.001))\n",
    "                    for batch in batches:\n",
    "                        texts, annotations = zip(*batch)\n",
    "                        self.nlp.update(texts, annotations, sgd=optimizer, drop=0.5, losses=losses)\n",
    "\n",
    "                    pbar.set_description(f'Loss: {losses[\"ner\"]}')\n",
    "                    pbar.update(1)\n",
    "                    \n",
    "\n",
    "trainer = Trainer()\n",
    "TRAIN_DATA = trainer.TD\n"
   ]
  },
  {
   "cell_type": "code",
   "execution_count": 3,
   "metadata": {},
   "outputs": [
    {
     "data": {
      "text/plain": [
       "(13, 23)"
      ]
     },
     "execution_count": 3,
     "metadata": {},
     "output_type": "execute_result"
    }
   ],
   "source": [
    "trainer.tag_prhase('Eu nasci dia 15/08/2018.','15/08/2018')"
   ]
  },
  {
   "cell_type": "code",
   "execution_count": 4,
   "metadata": {},
   "outputs": [
    {
     "data": {
      "text/plain": [
       "(2, 11)"
      ]
     },
     "execution_count": 4,
     "metadata": {},
     "output_type": "execute_result"
    }
   ],
   "source": [
    "trainer.tag_prhase('O JusBrasil não vai abrir hoje.', 'JusBrasil')"
   ]
  },
  {
   "cell_type": "code",
   "execution_count": 5,
   "metadata": {},
   "outputs": [],
   "source": [
    "label = 'DATA'\n",
    "\n",
    "data_to_add = [\n",
    "                ('O Saito também é uma empresa.', \n",
    "                 {'entities': [(2, 7, 'ORG')]}\n",
    "                ),\n",
    "                ('O Espetão é uma empresa.', \n",
    "                 {'entities': [(2, 9, 'ORG')]}\n",
    "                ),\n",
    "                ('Eu nasci dia 15/08/2018.', {\n",
    "                    'entities': [(13, 23, label)]\n",
    "                }),\n",
    "                ('Eu irei dia 10/12/2018.', {\n",
    "                    'entities': [(12, 22, label)]\n",
    "                }),\n",
    "                ('Ontem foi 10/02/2017.', {\n",
    "                    'entities': [(10, 20, label)]\n",
    "                }),\n",
    "                ('O Espetão é uma churrascaria.', {\n",
    "                    'entities': [(2, 9, 'ORG')]\n",
    "                }),\n",
    "               ]\n",
    "\n",
    "trainer.add_label(label)\n",
    "\n",
    "for data in data_to_add:\n",
    "    trainer.update_train_data(data)"
   ]
  },
  {
   "cell_type": "code",
   "execution_count": 6,
   "metadata": {},
   "outputs": [
    {
     "data": {
      "text/plain": [
       "[('O dr. Everton Tomalok da JustiÇa foi convidado a vir assinar a papelada.',\n",
       "  {'entities': [(25, 34, 'ORG'), (6, 21, 'PER')]}),\n",
       " ('O dr. Arnaldo da Silva da JustiÇa, é um bom advogado',\n",
       "  {'entities': [(26, 35, 'ORG')]}),\n",
       " ('É um lugar?', {'entities': []}),\n",
       " ('JustiÇa é uma empresa.', {'entities': [(0, 9, 'ORG')]}),\n",
       " ('JustiÇa é legal.', {'entities': [(0, 9, 'ORG')]}),\n",
       " ('O dr. Júlio da Silva da JustiÇa Ltda. é legal.',\n",
       "  {'entities': [(24, 37, 'ORG'), (6, 20, 'PER')]}),\n",
       " ('O dr. Lucas Bulhões Santos trabalha na OAB',\n",
       "  {'entities': [(2, 15, 'PER'), (28, 34, 'ORG')]}),\n",
       " ('O dr. Lucas da Empreiteira.',\n",
       "  {'entities': [(6, 11, 'PER'), (15, 26, 'ORG')]}),\n",
       " ('O dr. Fabiano do Federzoni.',\n",
       "  {'entities': [(6, 11, 'PER'), (15, 24, 'ORG')]}),\n",
       " ('O Saito também é uma empresa.', {'entities': [(2, 7, 'ORG')]}),\n",
       " ('O Espetão é uma empresa.', {'entities': [(2, 9, 'ORG')]}),\n",
       " ('Eu nasci dia 15/08/2018.', {'entities': [(13, 23, 'DATA')]}),\n",
       " ('Eu irei dia 10/12/2018.', {'entities': [(12, 22, 'DATA')]}),\n",
       " ('Ontem foi 10/02/2017.', {'entities': [(10, 20, 'DATA')]}),\n",
       " ('O Espetão é uma churrascaria.', {'entities': [(2, 9, 'ORG')]})]"
      ]
     },
     "execution_count": 6,
     "metadata": {},
     "output_type": "execute_result"
    }
   ],
   "source": [
    "trainer.TD"
   ]
  },
  {
   "cell_type": "code",
   "execution_count": 7,
   "metadata": {},
   "outputs": [
    {
     "name": "stderr",
     "output_type": "stream",
     "text": [
      "100%|██████████|100/100 > Time: 00:38 <> Loss: 1.8116777353286015: \n"
     ]
    }
   ],
   "source": [
    "trainer.train(100)"
   ]
  },
  {
   "cell_type": "code",
   "execution_count": 8,
   "metadata": {},
   "outputs": [],
   "source": [
    "def print_ents(doc):\n",
    "    for ent in doc.ents:\n",
    "        print('ENT: ', ent.text, ' - LABEL: ', ent.label_)\n",
    "        \n",
    "        if ent.label_ != 'DATA':\n",
    "            for d in ent:\n",
    "                if d.pos_ == 'PROPN' or d.pos_ == 'NOUN':\n",
    "                    print('         - ', d.text,'  | POS: ', d.pos_)\n",
    "\n",
    "            print('==========\\n')\n",
    "        else:\n",
    "            print()"
   ]
  },
  {
   "cell_type": "code",
   "execution_count": 18,
   "metadata": {},
   "outputs": [
    {
     "name": "stdout",
     "output_type": "stream",
     "text": [
      "ENT:  Bruno Silva  - LABEL:  PER\n",
      "         -  Bruno   | POS:  PROPN\n",
      "         -  Silva   | POS:  PROPN\n",
      "==========\n",
      "\n",
      "ENT:  JusTiça é  - LABEL:  ORG\n",
      "         -  JusTiça   | POS:  PROPN\n",
      "==========\n",
      "\n"
     ]
    }
   ],
   "source": [
    "test_text = 'O dr. Bruno Silva da JusTiça é legal.'\n",
    "doc = trainer.nlp(test_text)\n",
    "\n",
    "print_ents(doc)"
   ]
  },
  {
   "cell_type": "code",
   "execution_count": 20,
   "metadata": {},
   "outputs": [
    {
     "name": "stdout",
     "output_type": "stream",
     "text": [
      "ENT:  Bruno que  - LABEL:  PER\n",
      "         -  Bruno   | POS:  PROPN\n",
      "==========\n",
      "\n",
      "ENT:  Peijim Ltda.  - LABEL:  ORG\n",
      "         -  Peijim   | POS:  PROPN\n",
      "         -  Ltda   | POS:  PROPN\n",
      "==========\n",
      "\n"
     ]
    }
   ],
   "source": [
    "test_text = 'O dr. Bruno que trabalha na Peijim Ltda. esta aqui.'\n",
    "doc = trainer.nlp(test_text)\n",
    "\n",
    "print_ents(doc)"
   ]
  },
  {
   "cell_type": "code",
   "execution_count": 11,
   "metadata": {},
   "outputs": [
    {
     "name": "stdout",
     "output_type": "stream",
     "text": [
      "ENT:  Gustavo Gusmão da Silva  - LABEL:  PER\n",
      "         -  Gustavo   | POS:  PROPN\n",
      "         -  Gusmão   | POS:  PROPN\n",
      "         -  Silva   | POS:  PROPN\n",
      "==========\n",
      "\n",
      "ENT:  Jussara  - LABEL:  ORG\n",
      "         -  Jussara   | POS:  PROPN\n",
      "==========\n",
      "\n"
     ]
    }
   ],
   "source": [
    "test_text = 'O dr. Gustavo Gusmão da Silva da Jussara, irá falar.'\n",
    "doc = trainer.nlp(test_text)\n",
    "\n",
    "print_ents(doc)"
   ]
  },
  {
   "cell_type": "code",
   "execution_count": 12,
   "metadata": {},
   "outputs": [
    {
     "name": "stdout",
     "output_type": "stream",
     "text": [
      "ENT:  Augusto Carriere  - LABEL:  PER\n",
      "         -  Augusto   | POS:  PROPN\n",
      "         -  Carriere   | POS:  PROPN\n",
      "==========\n",
      "\n",
      "ENT:  Federzoni  - LABEL:  PER\n",
      "         -  Federzoni   | POS:  PROPN\n",
      "==========\n",
      "\n",
      "ENT:  10/12/2018  - LABEL:  DATA\n",
      "\n"
     ]
    }
   ],
   "source": [
    "test_text = 'O advogado Augusto Carriere que é o advogado do Federzoni, irá falar no dia 10/12/2018.'\n",
    "doc = trainer.nlp(test_text)\n",
    "\n",
    "print_ents(doc)"
   ]
  },
  {
   "cell_type": "code",
   "execution_count": 13,
   "metadata": {
    "scrolled": true
   },
   "outputs": [
    {
     "name": "stdout",
     "output_type": "stream",
     "text": [
      "ENT:  Augusto,  - LABEL:  PER\n",
      "         -  Augusto   | POS:  PROPN\n",
      "==========\n",
      "\n",
      "ENT:  Bradesco  - LABEL:  ORG\n",
      "         -  Bradesco   | POS:  PROPN\n",
      "==========\n",
      "\n"
     ]
    }
   ],
   "source": [
    "test_text = 'O representante dr. Augusto, advogado do Bradesco, me disse isso hoje de manhã.'\n",
    "doc = trainer.nlp(test_text)\n",
    "\n",
    "print_ents(doc)"
   ]
  },
  {
   "cell_type": "code",
   "execution_count": 14,
   "metadata": {},
   "outputs": [
    {
     "name": "stdout",
     "output_type": "stream",
     "text": [
      "ENT:  Espetão  - LABEL:  ORG\n",
      "         -  Espetão   | POS:  PROPN\n",
      "==========\n",
      "\n",
      "ENT:  13/10/2030  - LABEL:  DATA\n",
      "\n"
     ]
    }
   ],
   "source": [
    "test_text = 'Irei ao Espetão no dia 13/10/2030.'\n",
    "doc = trainer.nlp(test_text)\n",
    "\n",
    "print_ents(doc)"
   ]
  },
  {
   "cell_type": "code",
   "execution_count": 15,
   "metadata": {},
   "outputs": [
    {
     "name": "stdout",
     "output_type": "stream",
     "text": [
      "ENT:  JusBrasil  - LABEL:  ORG\n",
      "         -  JusBrasil   | POS:  PROPN\n",
      "==========\n",
      "\n"
     ]
    }
   ],
   "source": [
    "test_text = 'O JusBrasil vai lançar uma nova ferramenta.'\n",
    "\n",
    "doc = trainer.nlp(test_text)\n",
    "\n",
    "print_ents(doc)"
   ]
  },
  {
   "cell_type": "code",
   "execution_count": 16,
   "metadata": {},
   "outputs": [],
   "source": [
    "test_text = 'O tribunal não terá audiências durante a manhã.'\n",
    "\n",
    "doc = trainer.nlp(test_text)\n",
    "\n",
    "print_ents(doc)"
   ]
  }
 ],
 "metadata": {
  "kernelspec": {
   "display_name": "Python 3",
   "language": "python",
   "name": "python3"
  },
  "language_info": {
   "codemirror_mode": {
    "name": "ipython",
    "version": 3
   },
   "file_extension": ".py",
   "mimetype": "text/x-python",
   "name": "python",
   "nbconvert_exporter": "python",
   "pygments_lexer": "ipython3",
   "version": "3.6.7"
  }
 },
 "nbformat": 4,
 "nbformat_minor": 2
}
