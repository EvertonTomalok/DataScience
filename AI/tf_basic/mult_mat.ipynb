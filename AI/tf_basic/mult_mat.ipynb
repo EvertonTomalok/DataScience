{
 "cells": [
  {
   "cell_type": "code",
   "execution_count": 1,
   "metadata": {},
   "outputs": [],
   "source": [
    "import tensorflow as tf\n",
    "import numpy as np"
   ]
  },
  {
   "cell_type": "code",
   "execution_count": 2,
   "metadata": {},
   "outputs": [
    {
     "name": "stdout",
     "output_type": "stream",
     "text": [
      "[[1 2]\n",
      " [3 4]]\n",
      "\n",
      " [[66 67]\n",
      " [68 69]] \n",
      "\n",
      "[[202 205]\n",
      " [470 477]]\n"
     ]
    }
   ],
   "source": [
    "# using np\n",
    "\n",
    "mat1 = np.array([i for i in range(1,5)]).reshape(2, 2)\n",
    "mat2 = np.array([i for i in range(66, 70)]).reshape(2, 2)\n",
    "\n",
    "print(mat1)\n",
    "print('\\n', mat2, '\\n')\n",
    "\n",
    "print(np.matmul(mat1, mat2))"
   ]
  },
  {
   "cell_type": "code",
   "execution_count": 3,
   "metadata": {},
   "outputs": [
    {
     "name": "stdout",
     "output_type": "stream",
     "text": [
      "[[202 205]\n",
      " [470 477]]\n"
     ]
    }
   ],
   "source": [
    "m1 = tf.constant(np.array([i for i in range(1,5)]).reshape(2, 2), dtype='int32')\n",
    "m2 = tf.constant(np.array([i for i in range(66, 70)]).reshape(2, 2), dtype='int32')\n",
    "\n",
    "with tf.Session() as sess:\n",
    "    print(sess.run(tf.matmul(m1, m2)))"
   ]
  }
 ],
 "metadata": {
  "kernelspec": {
   "display_name": "Python 3",
   "language": "python",
   "name": "python3"
  },
  "language_info": {
   "codemirror_mode": {
    "name": "ipython",
    "version": 3
   },
   "file_extension": ".py",
   "mimetype": "text/x-python",
   "name": "python",
   "nbconvert_exporter": "python",
   "pygments_lexer": "ipython3",
   "version": "3.6.5"
  }
 },
 "nbformat": 4,
 "nbformat_minor": 2
}
