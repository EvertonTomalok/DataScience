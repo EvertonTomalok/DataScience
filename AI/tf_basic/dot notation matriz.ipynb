{
 "cells": [
  {
   "cell_type": "code",
   "execution_count": 1,
   "metadata": {},
   "outputs": [],
   "source": [
    "import tensorflow as tf\n",
    "import numpy as np"
   ]
  },
  {
   "cell_type": "code",
   "execution_count": 2,
   "metadata": {},
   "outputs": [
    {
     "name": "stdout",
     "output_type": "stream",
     "text": [
      "[[-0.8  0.7  0. ]]\n"
     ]
    }
   ],
   "source": [
    "v1 = tf.constant(np.array([-1.0, 7.0, 5.0]).reshape(-1), dtype='float32')\n",
    "v2 = tf.constant([[0.8, 0.1, 0.0]], dtype='float32')\n",
    "\n",
    "with tf.Session() as sess:\n",
    "    print(sess.run(tf.multiply(v1, v2)))"
   ]
  }
 ],
 "metadata": {
  "kernelspec": {
   "display_name": "Python 3",
   "language": "python",
   "name": "python3"
  },
  "language_info": {
   "codemirror_mode": {
    "name": "ipython",
    "version": 3
   },
   "file_extension": ".py",
   "mimetype": "text/x-python",
   "name": "python",
   "nbconvert_exporter": "python",
   "pygments_lexer": "ipython3",
   "version": "3.6.5"
  }
 },
 "nbformat": 4,
 "nbformat_minor": 2
}
