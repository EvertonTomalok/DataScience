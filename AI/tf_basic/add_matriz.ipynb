{
 "cells": [
  {
   "cell_type": "code",
   "execution_count": 1,
   "metadata": {},
   "outputs": [],
   "source": [
    "import tensorflow as tf\n",
    "import numpy as np"
   ]
  },
  {
   "cell_type": "code",
   "execution_count": 2,
   "metadata": {},
   "outputs": [],
   "source": [
    "m1 = tf.constant(np.array([i for i in range(1,10)]).reshape(3,3))\n",
    "m2 = tf.constant(np.array([i for i in range(91,100)]).reshape(3,3))"
   ]
  },
  {
   "cell_type": "code",
   "execution_count": 3,
   "metadata": {},
   "outputs": [],
   "source": [
    "sum_mat = m1 + m2"
   ]
  },
  {
   "cell_type": "code",
   "execution_count": 4,
   "metadata": {},
   "outputs": [
    {
     "name": "stdout",
     "output_type": "stream",
     "text": [
      "[[ 92  94  96]\n",
      " [ 98 100 102]\n",
      " [104 106 108]]\n"
     ]
    }
   ],
   "source": [
    "with tf.Session() as sess:\n",
    "    print(sess.run(sum_mat))"
   ]
  },
  {
   "cell_type": "code",
   "execution_count": 5,
   "metadata": {},
   "outputs": [
    {
     "name": "stdout",
     "output_type": "stream",
     "text": [
      "[ 92  94  96  98 100 102 104 106 108]\n",
      "\n",
      "[[ 92  94  96]\n",
      " [ 98 100 102]\n",
      " [104 106 108]]\n"
     ]
    }
   ],
   "source": [
    "tf.reset_default_graph()\n",
    "\n",
    "v1 = tf.constant(np.array([i for i in range(1,10)]))\n",
    "v2 = tf.constant(np.array([i for i in range(91,100)]))\n",
    "               \n",
    "\n",
    "with tf.Session() as sess:\n",
    "    print(sess.run(tf.add(v1, v2 )))\n",
    "    print()\n",
    "    print(sess.run(tf.add(v1, v2 )).reshape(3,3))"
   ]
  }
 ],
 "metadata": {
  "kernelspec": {
   "display_name": "Python 3",
   "language": "python",
   "name": "python3"
  },
  "language_info": {
   "codemirror_mode": {
    "name": "ipython",
    "version": 3
   },
   "file_extension": ".py",
   "mimetype": "text/x-python",
   "name": "python",
   "nbconvert_exporter": "python",
   "pygments_lexer": "ipython3",
   "version": "3.6.5"
  }
 },
 "nbformat": 4,
 "nbformat_minor": 2
}
